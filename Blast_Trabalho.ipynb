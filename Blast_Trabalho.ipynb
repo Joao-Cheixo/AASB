{
 "cells": [
  {
   "cell_type": "markdown",
   "id": "90f952d9",
   "metadata": {},
   "source": [
    "__AASB Blast__"
   ]
  },
  {
   "cell_type": "markdown",
   "id": "0c546c64",
   "metadata": {},
   "source": [
    "Blast simplificado e sua utilização para ir buscar sequências similares à base de dados SQL de sequências"
   ]
  },
  {
   "cell_type": "code",
   "execution_count": 1,
   "id": "c1bbd685",
   "metadata": {},
   "outputs": [],
   "source": [
    "query = \"ACTCCATACGGTTGTTGGTGGTGCGGGTGTAGCCAGCGCTAAAGGTTTTCTCGCGTCCGCGATAGCGTAAAATAGCGCCGTAACCCCCAGGTCCTGGATTGCCCAGACACGAACCATCGGTGAAAATTTCTACCTGTTTAAGCATCTCTGGTAGACTTCCTGTAATTGAATCGAACTGTAAAACGACAAGTCTGACATAAATGACCGCTATGAGCACTGCAATTACACGCCAGATCGTTCTCGATACCGAAACCACCGGTATGAACCAGATTGGTGCGCACTATGAAGGCCACAAGATCATTGAGATTGGTGCCGTTGAAGTGGTGAACCGTCGCCTGACGGGCAATAACTTCCATGTTTATCTCAAACCCGATCGGCTGGTGGATCCGGAAGCCTTTGGCGTACATGGTATTGCCGATGAATTTTTGCTCGATAAGCCCACGTTTGCCGAAGTAGCCGATGAGTTCATGGACTATATTCGCGGCGCGGAGTTGGTGATCCATAACGCAGCGTTCGATATCGGCTTTATGGACTACGAGTTTTCGTTGCTTAAGCGCGATATTCCGAAGACCAATACTTTCTGTAAGGTCACCGATAGCCTTGCGGTGGCGAGGAAAATGTTTCCCGGTAAGCGCAACAGCCTCGATGCGTTATGTGCTCGCTACGAAATAGATAACAGTAAACGAACGCTGCACGGGGCATTACTCGATGCCCAGATCCTTGCGGAAGTTTATCTGGCGATGACCGGTGGTCAAACGTCGATGGCTTTTGCGATGGAAGGAGAGACACAACAGCAACAAGGTGAAGCAACAATTCAGCGCATTGTACGTCAGGCAAGTAAGTTACGCGTTGTTTTTGCGACAGATGAAGAGATTGCAGCTCATGAAGCCCGTCTCGATCTGGTGCAGAAGAAAGGCGGAAGTTGCCTCTGGCGAGCATAAATACCTGTGAAAGGCGCTAAAAATAGCGACTTGGGCGATTTTTGCAGCAAACGATTCAAAAGATGAGAAAAACCGTTGACGAAGGTCGAGGCAATCCGTAATATTCGCCTCGTTCCCAACGGAACAC\""
   ]
  },
  {
   "cell_type": "code",
   "execution_count": 2,
   "id": "033282d7",
   "metadata": {},
   "outputs": [],
   "source": [
    "org = \"AGTTTAAAAATAGCCTGATATATCAATAGGATAGGATAGGTTAGGATGGGATGGGAAGGGAGGGGGAGGTAATGAGTTGAAGGAAGAAGTAAATACAAAATAAGGAACTTAAAAAAATTGGGTTGAAACTGTGAATAAATGGTAATTTCGATAAGAATGAATCAAATCCAAATAATAACTATTATTGTAGAATAAAGATATATATCTCTTTTTTAGTTATAAACCTTTCTTATCAATTAAAGAAAGGGGGAACTAAACAGAAAAATGGGGGAAAGATTAATAAATTGTGGGAATCAATCAAATCAGCTGAAAGAAGAAGAAGAAGAAGAAGAAAGTCCTGCCCTTCCACCCCTCCCCCCGCGCCCTCGTATTACATAATCAACATTAAACGTTATTATCATCAGCATTGCCTTATTTGGAAATCTAGCACGTGATATTACATAAACACAACACAGAATTGGCTTCTGCACACGACCTTACTTAACACTTGAATCAAAAAAAAAAAAAGTCACAACAACAATATTGAAAAGTTCAATCCAACCTATACACCAAGACCAACTTAACCCAACATTCCTTAATTATGGCAGATAGATTAACTCAATTACAAATTTGTTTAGACCAGCTAATTCAACAATTCAATTCAACGATAAATTATGTCAATACCAGTGCCGAACCCAGTCTATTAGATGACGATGATGTCAACTCCTATTCCAATATGGCAGCTAATGCCCCATTGCCACAATCCCAACAACAACGGCAACAACAAAAGAAACAACAGGAACCACAGCAAGAAATAGAACAACCACAACAACAAAGTAACCCTGAATCAAAGAGTATTTCTCCGCCAAAAGAAAAAGTGAGTTTTGATAATGTAATCAATGAGTTATGCACAGATTTAATTTTGAAAAGTCGACAAATCAAAATGTTAATTGATTCATTACCTGGTATAGGAGTTACACCCAATGAACAAATGAATCTAATCAATGAATTAAGTGATAAATTGCAAGCTATAGAAGAAGAAAGAATTCAAAAAATCAAAGAAAAAGATAATCTATTAAATCTATTAGAAAGTATGATTAAAGAGGTAGTTAATGGTATAACCGAAACAAGAATATGATAAAAAAAGAAATACTTTCAGCTTCTATTGTTCTCCCCCCCCCTCTATTTAACCTGTATATGTCATACAATCAATGTCCCAATTTGGAAACCATTTATGAGAATTACATTGATCTAATGTCCATGGCAATCCATATGTGATTGGTATAAATTCATAAAAGCAGTATATTGCACTGACAAATATTGTTGCAGTTATTATACCACCAATAATTTTGTTTTTAGCGACACGATAATTCAAATATTGACTTAATAATAATATTCCAAAATTTAATGCCAGTAAATAATGATGTAAATATAAGTTTCTTGACATGAGACAATAAGGAATATAATTAATAAACCATCCCACCAAATATGGCCAGGAATTGTTGTAAAAGTTGGCATATGGTGATGATTTGGATGATGATGGAGGAGATGCATAAGGGTTTAACTTTATAAACGAATAAATGGCACATTTGAATATAGCTATTAAACCCACAAAAAATACCAGATAATAAATGGCAACATTTCCTAAATAATAAAATAGACTTGATTCTTCATCGATTGATTTCAAATTGTA\""
   ]
  },
  {
   "cell_type": "code",
   "execution_count": 73,
   "id": "a7f71078",
   "metadata": {},
   "outputs": [],
   "source": [
    "def build_Map(query,w):\n",
    "    \"\"\"\n",
    "    Input: query = sequência; w = tamanho das palavras \n",
    "    Output: dicionário onde as keys são sub-sequencias de tamanho w que ocorrem na query e os values são as suas posições.\n",
    "    \"\"\"\n",
    "    res={}\n",
    "    i=0\n",
    "    while i <= len(query)-w:\n",
    "        q=query[i:i+w]\n",
    "        if q not in res:\n",
    "            res[q]=[i]\n",
    "        else:\n",
    "            res[q].append(i)\n",
    "        i+=1\n",
    "    return res"
   ]
  },
  {
   "cell_type": "code",
   "execution_count": 64,
   "id": "aea665b3",
   "metadata": {},
   "outputs": [
    {
     "name": "stdout",
     "output_type": "stream",
     "text": [
      "{'ACT': [0, 154, 174, 215, 279, 348, 471, 531, 575, 703, 969], 'CTC': [1, 49, 145, 239, 362, 428, 641, 657, 704, 879, 893, 926, 1049], 'TCC': [2, 55, 91, 157, 351, 385, 498, 562, 622, 717, 1035, 1054], 'CCA': [3, 32, 86, 102, 113, 229, 252, 265, 289, 352, 438, 499, 570, 712, 1056], 'CAT': [4, 114, 142, 195, 298, 353, 404, 466, 500, 699, 820, 881, 936], 'ATA': [5, 61, 71, 196, 243, 345, 432, 474, 501, 516, 558, 573, 594, 668, 672, 937, 941, 963, 1041], 'TAC': [6, 130, 223, 244, 402, 533, 574, 662, 702, 825, 843, 942], 'ACG': [7, 108, 182, 226, 338, 440, 504, 534, 663, 682, 686, 693, 755, 826, 844, 991, 1019, 1059], 'CGG': [8, 23, 117, 256, 339, 374, 387, 481, 486, 520, 603, 625, 694, 723, 745, 916, 1060], 'GGT': [9, 16, 19, 25, 43, 89, 118, 149, 257, 272, 308, 322, 379, 407, 493, 586, 604, 626, 746, 749, 800, 901, 1024], 'GTT': [10, 13, 44, 135, 236, 314, 356, 442, 463, 490, 511, 538, 544, 619, 649, 728, 841, 848, 851, 921, 1015, 1052], 'TTG': [11, 14, 98, 165, 270, 300, 306, 315, 396, 411, 425, 444, 491, 545, 600, 720, 768, 822, 849, 855, 873, 922, 971, 982, 1016], 'TGT': [12, 27, 134, 160, 176, 355, 581, 618, 653, 823, 850, 946], 'TGG': [15, 18, 94, 148, 271, 307, 321, 378, 381, 397, 406, 468, 492, 528, 606, 735, 748, 762, 774, 900, 929, 972], 'GTG': [17, 20, 26, 119, 273, 309, 320, 323, 380, 494, 605, 654, 747, 801, 902, 947], 'TGC': [21, 99, 217, 274, 310, 412, 426, 445, 546, 601, 646, 655, 690, 709, 721, 769, 856, 874, 903, 923, 983], 'GCG': [22, 35, 52, 58, 64, 74, 275, 399, 480, 483, 485, 509, 553, 555, 602, 608, 631, 647, 722, 737, 770, 817, 846, 857, 915, 931, 954, 966, 975], 'GGG': [24, 340, 695, 696, 973], 'GTA': [28, 66, 79, 150, 161, 177, 258, 401, 408, 452, 582, 627, 678, 824, 837, 1038], 'TAG': [29, 62, 72, 151, 453, 595, 669, 964], 'AGC': [30, 34, 63, 73, 140, 212, 391, 435, 454, 508, 552, 596, 630, 638, 792, 805, 816, 877, 886, 934, 965, 986], 'GCC': [31, 76, 100, 228, 288, 311, 333, 392, 413, 436, 446, 455, 597, 639, 710, 887, 924, 1047], 'CAG': [33, 87, 103, 230, 266, 507, 637, 676, 713, 791, 815, 830, 861, 876, 905, 985], 'CGC': [36, 51, 57, 75, 205, 227, 276, 332, 479, 484, 505, 554, 632, 659, 687, 818, 845, 955, 1046], 'GCT': [37, 206, 376, 427, 522, 547, 656, 660, 688, 764, 878, 956], 'CTA': [38, 129, 207, 280, 472, 532, 661, 957], 'TAA': [39, 67, 80, 138, 162, 178, 197, 346, 433, 502, 550, 583, 628, 673, 679, 838, 938, 958, 1039], 'AAA': [40, 68, 69, 122, 123, 179, 180, 198, 249, 365, 614, 615, 666, 680, 753, 911, 939, 950, 959, 960, 961, 989, 998, 999, 1008, 1009, 1010], 'AAG': [41, 139, 187, 285, 293, 318, 390, 434, 450, 551, 566, 584, 629, 726, 777, 798, 804, 835, 839, 867, 885, 908, 912, 919, 951, 1000, 1022], 'AGG': [42, 88, 286, 585, 611, 778, 799, 831, 913, 952, 1023, 1029], 'TTT': [45, 46, 126, 136, 357, 395, 422, 423, 424, 443, 524, 539, 540, 577, 620, 729, 766, 767, 852, 853, 854, 979, 980, 981], 'TTC': [47, 127, 156, 237, 350, 464, 477, 512, 541, 561, 578, 621, 813, 995, 1044, 1053], 'TCT': [48, 128, 144, 146, 190, 238, 361, 579, 733, 892, 898, 927], 'TCG': [50, 116, 170, 234, 240, 331, 373, 429, 478, 513, 519, 542, 642, 658, 705, 758, 894, 1026, 1045, 1050], 'CGT': [53, 65, 78, 235, 313, 329, 400, 441, 510, 543, 648, 756, 827, 847, 890, 1014, 1037, 1051], 'GTC': [54, 90, 189, 330, 587, 750, 757, 828, 891, 1025], 'CCG': [56, 77, 204, 246, 255, 312, 328, 369, 386, 414, 447, 456, 563, 591, 624, 744, 889, 1013, 1036], 'CGA': [59, 109, 171, 183, 241, 247, 370, 415, 430, 448, 457, 514, 535, 556, 564, 592, 609, 643, 664, 683, 706, 738, 759, 771, 858, 895, 932, 967, 976, 992, 1020, 1027], 'GAT': [60, 96, 232, 242, 268, 295, 304, 371, 383, 416, 431, 458, 496, 515, 557, 593, 644, 671, 707, 715, 739, 760, 772, 863, 871, 896, 977, 993, 1002], 'AAT': [70, 124, 163, 168, 199, 220, 344, 420, 572, 616, 667, 811, 940, 962, 1033, 1040], 'AAC': [81, 111, 173, 181, 250, 263, 326, 347, 366, 503, 635, 674, 681, 685, 754, 789, 795, 808, 990, 1011, 1058, 1063], 'ACC': [82, 112, 131, 203, 245, 251, 254, 264, 327, 367, 569, 590, 743, 943, 1012], 'CCC': [83, 84, 85, 101, 368, 437, 623, 711, 888, 1055], 'CCT': [92, 132, 158, 334, 393, 598, 640, 718, 925, 944, 1048], 'CTG': [93, 133, 147, 159, 175, 191, 216, 335, 377, 580, 689, 734, 899, 928, 945], 'GGA': [95, 382, 388, 469, 487, 529, 612, 724, 775, 779, 917, 1061], 'ATT': [97, 125, 164, 221, 269, 299, 305, 410, 421, 476, 560, 700, 812, 821, 872, 978, 994, 1043], 'AGA': [104, 152, 231, 267, 294, 303, 567, 670, 714, 781, 783, 862, 868, 870, 906, 909, 1001, 1006], 'GAC': [105, 153, 184, 193, 202, 337, 470, 530, 568, 742, 784, 859, 968, 1018], 'ACA': [106, 185, 194, 224, 291, 403, 636, 675, 785, 787, 790, 796, 809, 860, 1064], 'CAC': [107, 214, 225, 253, 278, 290, 439, 589, 692, 786, 1065], 'GAA': [110, 121, 167, 172, 248, 262, 284, 317, 325, 389, 419, 449, 565, 613, 665, 684, 725, 776, 803, 866, 884, 907, 910, 918, 949, 1007, 1021, 1062], 'ATC': [115, 143, 169, 233, 296, 360, 372, 384, 497, 518, 716, 732, 897, 1034], 'TGA': [120, 166, 192, 201, 210, 261, 283, 301, 316, 324, 336, 418, 460, 495, 741, 802, 865, 883, 948, 1004, 1017], 'TTA': [137, 222, 358, 525, 549, 650, 701, 730, 842], 'GCA': [141, 213, 218, 277, 342, 506, 633, 691, 698, 793, 806, 819, 833, 875, 904, 935, 984, 987, 1031], 'CTT': [155, 349, 394, 523, 548, 576, 599, 719, 765, 970], 'CAA': [186, 219, 292, 343, 364, 571, 634, 752, 788, 794, 797, 807, 810, 834, 988, 997, 1032, 1057], 'AGT': [188, 319, 451, 462, 489, 537, 677, 727, 836, 840, 920], 'ATG': [200, 209, 260, 282, 354, 405, 417, 459, 467, 527, 617, 645, 652, 708, 740, 761, 773, 864, 882, 1003], 'TAT': [208, 259, 281, 359, 409, 473, 475, 517, 526, 559, 651, 731, 1042], 'GAG': [211, 302, 461, 488, 536, 610, 780, 782, 869, 933, 1005, 1028], 'GGC': [287, 341, 375, 398, 482, 521, 607, 697, 736, 763, 832, 914, 930, 953, 974, 1030], 'TCA': [297, 363, 465, 588, 751, 814, 829, 880, 996]}\n"
     ]
    }
   ],
   "source": [
    "print(build_Map(query,3))"
   ]
  },
  {
   "cell_type": "code",
   "execution_count": 74,
   "id": "cabffd97",
   "metadata": {},
   "outputs": [],
   "source": [
    "def get_Hits(seq,m,w):\n",
    "    \"\"\" \n",
    "    Input: seq = sequência onde procurar; \n",
    "    m = query_map obtido na função anterior;\n",
    "    w = tamanho das palavras\n",
    "    Output: lista de hits (tuplo), em que o 1º elemento é a posição da palavra na query e \n",
    "    o 2º é a posição da palavra na sequência.\n",
    "    \"\"\"\n",
    "    res=[]\n",
    "    for key, value in m.items():\n",
    "        for m in value:\n",
    "            for i in range(len(seq)):\n",
    "                if key == seq[i:i + len(key)]: res.append((m,i))\n",
    "    return res"
   ]
  },
  {
   "cell_type": "code",
   "execution_count": 40,
   "id": "18bcf883",
   "metadata": {},
   "outputs": [],
   "source": [
    "xq = \"AGTGCTGTAGCAGT\"\n",
    "ys = \"AGTGCTGTAGCAGTCGATCGATAGTGCTGTAGC\""
   ]
  },
  {
   "cell_type": "code",
   "execution_count": 67,
   "id": "de1f62cf",
   "metadata": {},
   "outputs": [
    {
     "data": {
      "text/plain": [
       "{'AGT': [0, 11],\n",
       " 'GTG': [1],\n",
       " 'TGC': [2],\n",
       " 'GCT': [3],\n",
       " 'CTG': [4],\n",
       " 'TGT': [5],\n",
       " 'GTA': [6],\n",
       " 'TAG': [7],\n",
       " 'AGC': [8],\n",
       " 'GCA': [9],\n",
       " 'CAG': [10]}"
      ]
     },
     "execution_count": 67,
     "metadata": {},
     "output_type": "execute_result"
    }
   ],
   "source": [
    "z = build_Map(xq,3)\n",
    "z"
   ]
  },
  {
   "cell_type": "code",
   "execution_count": 68,
   "id": "a2b4acfe",
   "metadata": {},
   "outputs": [
    {
     "data": {
      "text/plain": [
       "[(0, 0),\n",
       " (0, 11),\n",
       " (0, 22),\n",
       " (11, 0),\n",
       " (11, 11),\n",
       " (11, 22),\n",
       " (1, 1),\n",
       " (1, 23),\n",
       " (2, 2),\n",
       " (2, 24),\n",
       " (3, 3),\n",
       " (3, 25),\n",
       " (4, 4),\n",
       " (4, 26),\n",
       " (5, 5),\n",
       " (5, 27),\n",
       " (6, 6),\n",
       " (6, 28),\n",
       " (7, 7),\n",
       " (7, 21),\n",
       " (7, 29),\n",
       " (8, 8),\n",
       " (8, 30),\n",
       " (9, 9),\n",
       " (10, 10)]"
      ]
     },
     "execution_count": 68,
     "metadata": {},
     "output_type": "execute_result"
    }
   ],
   "source": [
    "hit = get_Hits(ys,z,3)\n",
    "hit"
   ]
  },
  {
   "cell_type": "code",
   "execution_count": 69,
   "id": "82b3052e",
   "metadata": {},
   "outputs": [],
   "source": [
    "def extend_Hit (seq,hit,query,w):\n",
    "    \"\"\"\n",
    "    Input: seq = sequência onde procurar;\n",
    "    hit = um tuplo obitos na função getHits\n",
    "    query = sequência query\n",
    "    w = tamanho das palavras\n",
    "    Output: tuplo com início do hit estendido na query, início do hit estendido na sequência, tamanho do hit e o score do hit\n",
    "    \n",
    "    Parâmetros:\n",
    "    - iniq: início do hit na query;\n",
    "    - inis: início do hit na sequência;\n",
    "    - matches: matches à frente;\n",
    "    - k: posições andadas em frente;\n",
    "    - size: tamanho do hit estendido.\n",
    "    - bestk: melhor posição andada à frente\n",
    "    \"\"\"\n",
    "    iniq = hit[0]\n",
    "    inis = hit[1]\n",
    "    matches = 0\n",
    "    k = 0\n",
    "    bestk = 0\n",
    "    while 2*matches >=k and iniq+w+k < len(query) and inis+w+k < len(seq):\n",
    "        if query[iniq+w+k] == seq[inis+w+k]:\n",
    "            matches+=1\n",
    "            bestk = k+1\n",
    "        k += 1\n",
    "    size = w + bestk\n",
    "    k = 0\n",
    "    matbw = 0\n",
    "    bestk = 0\n",
    "    while 2*matbw >= k and iniq > k and inis > k:\n",
    "        if query[iniq-k-1] == seq[inis-k-1]:\n",
    "            matbw+=1\n",
    "            bestk = k+1\n",
    "        k+=1\n",
    "    size += bestk\n",
    "    return (iniq-bestk, inis-bestk, size, w+matches+matbw)"
   ]
  },
  {
   "cell_type": "code",
   "execution_count": 70,
   "id": "50176ab1",
   "metadata": {},
   "outputs": [
    {
     "data": {
      "text/plain": [
       "(0, 11, 3, 3)"
      ]
     },
     "execution_count": 70,
     "metadata": {},
     "output_type": "execute_result"
    }
   ],
   "source": [
    "extend_Hit(ys,(0,11),xq,3)"
   ]
  },
  {
   "cell_type": "code",
   "execution_count": 71,
   "id": "2e7cd97c",
   "metadata": {},
   "outputs": [],
   "source": [
    "def Best_Score_Hit (seq,query,m,w):\n",
    "    \"\"\"\n",
    "    Input: seq = sequência onde procurar\n",
    "    query = sequência query\n",
    "    m = mapa da query obtido na função buildMap\n",
    "    w = tamanho das palavras\n",
    "    \n",
    "    Output: hit com o maior score da sequência com a query\n",
    "    tuplo com 4 valores, onde o primeiro é o index do melhor hit na query,\n",
    "    o segundo o melhor hit na sequência,\n",
    "    o terceiro é o tamanho máximo do hit,\n",
    "    o quarto é o melhor score do hit\n",
    "    \"\"\"\n",
    "    hits=get_Hits(seq,m,w)\n",
    "    bestScoreHit =-1.0\n",
    "    best=()\n",
    "    for p in hits:\n",
    "        ext =extendHit(seq,p,query,w)\n",
    "        scoreHit=ext[3]\n",
    "        if scoreHit > bestScoreHit or (scoreHit== bestScoreHit and ext[2] < best[2]):\n",
    "            bestScoreHit = scoreHit\n",
    "            best=ext\n",
    "    return best"
   ]
  },
  {
   "cell_type": "code",
   "execution_count": 72,
   "id": "5e44db41",
   "metadata": {},
   "outputs": [
    {
     "data": {
      "text/plain": [
       "(0, 0, 14, 14)"
      ]
     },
     "execution_count": 72,
     "metadata": {},
     "output_type": "execute_result"
    }
   ],
   "source": [
    "Best_Score_Hit(ys,xq,z,3)"
   ]
  }
 ],
 "metadata": {
  "kernelspec": {
   "display_name": "Python 3 (ipykernel)",
   "language": "python",
   "name": "python3"
  },
  "language_info": {
   "codemirror_mode": {
    "name": "ipython",
    "version": 3
   },
   "file_extension": ".py",
   "mimetype": "text/x-python",
   "name": "python",
   "nbconvert_exporter": "python",
   "pygments_lexer": "ipython3",
   "version": "3.9.12"
  }
 },
 "nbformat": 4,
 "nbformat_minor": 5
}
