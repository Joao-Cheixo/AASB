{
 "cells": [
  {
   "cell_type": "markdown",
   "id": "90f952d9",
   "metadata": {},
   "source": [
    "__AASB Blast__"
   ]
  },
  {
   "cell_type": "markdown",
   "id": "0c546c64",
   "metadata": {},
   "source": [
    "Blast simplificado e sua utilização para ir buscar sequências similares à base de dados SQL de sequências"
   ]
  },
  {
   "cell_type": "code",
   "execution_count": 31,
   "id": "c1bbd685",
   "metadata": {},
   "outputs": [],
   "source": [
    "query = \"ACTCCATACGGTTGTTGGTGGTGCGGGTGTAGCCAGCGCTAAAGGTTTTCTCGCGTCCGCGATAGCGTAAAATAGCGCCGTAACCCCCAGGTCCTGGATTGCCCAGACACGAACCATCGGTGAAAATTTCTACCTGTTTAAGCATCTCTGGTAGACTTCCTGTAATTGAATCGAACTGTAAAACGACAAGTCTGACATAAATGACCGCTATGAGCACTGCAATTACACGCCAGATCGTTCTCGATACCGAAACCACCGGTATGAACCAGATTGGTGCGCACTATGAAGGCCACAAGATCATTGAGATTGGTGCCGTTGAAGTGGTGAACCGTCGCCTGACGGGCAATAACTTCCATGTTTATCTCAAACCCGATCGGCTGGTGGATCCGGAAGCCTTTGGCGTACATGGTATTGCCGATGAATTTTTGCTCGATAAGCCCACGTTTGCCGAAGTAGCCGATGAGTTCATGGACTATATTCGCGGCGCGGAGTTGGTGATCCATAACGCAGCGTTCGATATCGGCTTTATGGACTACGAGTTTTCGTTGCTTAAGCGCGATATTCCGAAGACCAATACTTTCTGTAAGGTCACCGATAGCCTTGCGGTGGCGAGGAAAATGTTTCCCGGTAAGCGCAACAGCCTCGATGCGTTATGTGCTCGCTACGAAATAGATAACAGTAAACGAACGCTGCACGGGGCATTACTCGATGCCCAGATCCTTGCGGAAGTTTATCTGGCGATGACCGGTGGTCAAACGTCGATGGCTTTTGCGATGGAAGGAGAGACACAACAGCAACAAGGTGAAGCAACAATTCAGCGCATTGTACGTCAGGCAAGTAAGTTACGCGTTGTTTTTGCGACAGATGAAGAGATTGCAGCTCATGAAGCCCGTCTCGATCTGGTGCAGAAGAAAGGCGGAAGTTGCCTCTGGCGAGCATAAATACCTGTGAAAGGCGCTAAAAATAGCGACTTGGGCGATTTTTGCAGCAAACGATTCAAAAGATGAGAAAAACCGTTGACGAAGGTCGAGGCAATCCGTAATATTCGCCTCGTTCCCAACGGAACAC\""
   ]
  },
  {
   "cell_type": "code",
   "execution_count": 32,
   "id": "033282d7",
   "metadata": {},
   "outputs": [],
   "source": [
    "org = \"AGTTTAAAAATAGCCTGATATATCAATAGGATAGGATAGGTTAGGATGGGATGGGAAGGGAGGGGGAGGTAATGAGTTGAAGGAAGAAGTAAATACAAAATAAGGAACTTAAAAAAATTGGGTTGAAACTGTGAATAAATGGTAATTTCGATAAGAATGAATCAAATCCAAATAATAACTATTATTGTAGAATAAAGATATATATCTCTTTTTTAGTTATAAACCTTTCTTATCAATTAAAGAAAGGGGGAACTAAACAGAAAAATGGGGGAAAGATTAATAAATTGTGGGAATCAATCAAATCAGCTGAAAGAAGAAGAAGAAGAAGAAGAAAGTCCTGCCCTTCCACCCCTCCCCCCGCGCCCTCGTATTACATAATCAACATTAAACGTTATTATCATCAGCATTGCCTTATTTGGAAATCTAGCACGTGATATTACATAAACACAACACAGAATTGGCTTCTGCACACGACCTTACTTAACACTTGAATCAAAAAAAAAAAAAGTCACAACAACAATATTGAAAAGTTCAATCCAACCTATACACCAAGACCAACTTAACCCAACATTCCTTAATTATGGCAGATAGATTAACTCAATTACAAATTTGTTTAGACCAGCTAATTCAACAATTCAATTCAACGATAAATTATGTCAATACCAGTGCCGAACCCAGTCTATTAGATGACGATGATGTCAACTCCTATTCCAATATGGCAGCTAATGCCCCATTGCCACAATCCCAACAACAACGGCAACAACAAAAGAAACAACAGGAACCACAGCAAGAAATAGAACAACCACAACAACAAAGTAACCCTGAATCAAAGAGTATTTCTCCGCCAAAAGAAAAAGTGAGTTTTGATAATGTAATCAATGAGTTATGCACAGATTTAATTTTGAAAAGTCGACAAATCAAAATGTTAATTGATTCATTACCTGGTATAGGAGTTACACCCAATGAACAAATGAATCTAATCAATGAATTAAGTGATAAATTGCAAGCTATAGAAGAAGAAAGAATTCAAAAAATCAAAGAAAAAGATAATCTATTAAATCTATTAGAAAGTATGATTAAAGAGGTAGTTAATGGTATAACCGAAACAAGAATATGATAAAAAAAGAAATACTTTCAGCTTCTATTGTTCTCCCCCCCCCTCTATTTAACCTGTATATGTCATACAATCAATGTCCCAATTTGGAAACCATTTATGAGAATTACATTGATCTAATGTCCATGGCAATCCATATGTGATTGGTATAAATTCATAAAAGCAGTATATTGCACTGACAAATATTGTTGCAGTTATTATACCACCAATAATTTTGTTTTTAGCGACACGATAATTCAAATATTGACTTAATAATAATATTCCAAAATTTAATGCCAGTAAATAATGATGTAAATATAAGTTTCTTGACATGAGACAATAAGGAATATAATTAATAAACCATCCCACCAAATATGGCCAGGAATTGTTGTAAAAGTTGGCATATGGTGATGATTTGGATGATGATGGAGGAGATGCATAAGGGTTTAACTTTATAAACGAATAAATGGCACATTTGAATATAGCTATTAAACCCACAAAAAATACCAGATAATAAATGGCAACATTTCCTAAATAATAAAATAGACTTGATTCTTCATCGATTGATTTCAAATTGTA\""
   ]
  },
  {
   "cell_type": "code",
   "execution_count": 33,
   "id": "22bf208c",
   "metadata": {},
   "outputs": [
    {
     "data": {
      "text/plain": [
       "1672"
      ]
     },
     "execution_count": 33,
     "metadata": {},
     "output_type": "execute_result"
    }
   ],
   "source": [
    "len(org)"
   ]
  },
  {
   "cell_type": "code",
   "execution_count": 34,
   "id": "68adfefa",
   "metadata": {},
   "outputs": [
    {
     "data": {
      "text/plain": [
       "1068"
      ]
     },
     "execution_count": 34,
     "metadata": {},
     "output_type": "execute_result"
    }
   ],
   "source": [
    "len(query)"
   ]
  },
  {
   "cell_type": "code",
   "execution_count": 2,
   "id": "a7f71078",
   "metadata": {},
   "outputs": [],
   "source": [
    "def buildMap(query,w):\n",
    "    res={}\n",
    "    i=0\n",
    "    while i <= len(query)-w:\n",
    "        q=query[i:i+w]\n",
    "        if q not in res:\n",
    "            res[q]=[i]\n",
    "        else:\n",
    "            res[q].append(i)\n",
    "        i+=1\n",
    "    return res"
   ]
  },
  {
   "cell_type": "code",
   "execution_count": 35,
   "id": "aea665b3",
   "metadata": {},
   "outputs": [
    {
     "name": "stdout",
     "output_type": "stream",
     "text": [
      "{'ACT': [0, 154, 174, 215, 279, 348, 471, 531, 575, 703, 969], 'CTC': [1, 49, 145, 239, 362, 428, 641, 657, 704, 879, 893, 926, 1049], 'TCC': [2, 55, 91, 157, 351, 385, 498, 562, 622, 717, 1035, 1054], 'CCA': [3, 32, 86, 102, 113, 229, 252, 265, 289, 352, 438, 499, 570, 712, 1056], 'CAT': [4, 114, 142, 195, 298, 353, 404, 466, 500, 699, 820, 881, 936], 'ATA': [5, 61, 71, 196, 243, 345, 432, 474, 501, 516, 558, 573, 594, 668, 672, 937, 941, 963, 1041], 'TAC': [6, 130, 223, 244, 402, 533, 574, 662, 702, 825, 843, 942], 'ACG': [7, 108, 182, 226, 338, 440, 504, 534, 663, 682, 686, 693, 755, 826, 844, 991, 1019, 1059], 'CGG': [8, 23, 117, 256, 339, 374, 387, 481, 486, 520, 603, 625, 694, 723, 745, 916, 1060], 'GGT': [9, 16, 19, 25, 43, 89, 118, 149, 257, 272, 308, 322, 379, 407, 493, 586, 604, 626, 746, 749, 800, 901, 1024], 'GTT': [10, 13, 44, 135, 236, 314, 356, 442, 463, 490, 511, 538, 544, 619, 649, 728, 841, 848, 851, 921, 1015, 1052], 'TTG': [11, 14, 98, 165, 270, 300, 306, 315, 396, 411, 425, 444, 491, 545, 600, 720, 768, 822, 849, 855, 873, 922, 971, 982, 1016], 'TGT': [12, 27, 134, 160, 176, 355, 581, 618, 653, 823, 850, 946], 'TGG': [15, 18, 94, 148, 271, 307, 321, 378, 381, 397, 406, 468, 492, 528, 606, 735, 748, 762, 774, 900, 929, 972], 'GTG': [17, 20, 26, 119, 273, 309, 320, 323, 380, 494, 605, 654, 747, 801, 902, 947], 'TGC': [21, 99, 217, 274, 310, 412, 426, 445, 546, 601, 646, 655, 690, 709, 721, 769, 856, 874, 903, 923, 983], 'GCG': [22, 35, 52, 58, 64, 74, 275, 399, 480, 483, 485, 509, 553, 555, 602, 608, 631, 647, 722, 737, 770, 817, 846, 857, 915, 931, 954, 966, 975], 'GGG': [24, 340, 695, 696, 973], 'GTA': [28, 66, 79, 150, 161, 177, 258, 401, 408, 452, 582, 627, 678, 824, 837, 1038], 'TAG': [29, 62, 72, 151, 453, 595, 669, 964], 'AGC': [30, 34, 63, 73, 140, 212, 391, 435, 454, 508, 552, 596, 630, 638, 792, 805, 816, 877, 886, 934, 965, 986], 'GCC': [31, 76, 100, 228, 288, 311, 333, 392, 413, 436, 446, 455, 597, 639, 710, 887, 924, 1047], 'CAG': [33, 87, 103, 230, 266, 507, 637, 676, 713, 791, 815, 830, 861, 876, 905, 985], 'CGC': [36, 51, 57, 75, 205, 227, 276, 332, 479, 484, 505, 554, 632, 659, 687, 818, 845, 955, 1046], 'GCT': [37, 206, 376, 427, 522, 547, 656, 660, 688, 764, 878, 956], 'CTA': [38, 129, 207, 280, 472, 532, 661, 957], 'TAA': [39, 67, 80, 138, 162, 178, 197, 346, 433, 502, 550, 583, 628, 673, 679, 838, 938, 958, 1039], 'AAA': [40, 68, 69, 122, 123, 179, 180, 198, 249, 365, 614, 615, 666, 680, 753, 911, 939, 950, 959, 960, 961, 989, 998, 999, 1008, 1009, 1010], 'AAG': [41, 139, 187, 285, 293, 318, 390, 434, 450, 551, 566, 584, 629, 726, 777, 798, 804, 835, 839, 867, 885, 908, 912, 919, 951, 1000, 1022], 'AGG': [42, 88, 286, 585, 611, 778, 799, 831, 913, 952, 1023, 1029], 'TTT': [45, 46, 126, 136, 357, 395, 422, 423, 424, 443, 524, 539, 540, 577, 620, 729, 766, 767, 852, 853, 854, 979, 980, 981], 'TTC': [47, 127, 156, 237, 350, 464, 477, 512, 541, 561, 578, 621, 813, 995, 1044, 1053], 'TCT': [48, 128, 144, 146, 190, 238, 361, 579, 733, 892, 898, 927], 'TCG': [50, 116, 170, 234, 240, 331, 373, 429, 478, 513, 519, 542, 642, 658, 705, 758, 894, 1026, 1045, 1050], 'CGT': [53, 65, 78, 235, 313, 329, 400, 441, 510, 543, 648, 756, 827, 847, 890, 1014, 1037, 1051], 'GTC': [54, 90, 189, 330, 587, 750, 757, 828, 891, 1025], 'CCG': [56, 77, 204, 246, 255, 312, 328, 369, 386, 414, 447, 456, 563, 591, 624, 744, 889, 1013, 1036], 'CGA': [59, 109, 171, 183, 241, 247, 370, 415, 430, 448, 457, 514, 535, 556, 564, 592, 609, 643, 664, 683, 706, 738, 759, 771, 858, 895, 932, 967, 976, 992, 1020, 1027], 'GAT': [60, 96, 232, 242, 268, 295, 304, 371, 383, 416, 431, 458, 496, 515, 557, 593, 644, 671, 707, 715, 739, 760, 772, 863, 871, 896, 977, 993, 1002], 'AAT': [70, 124, 163, 168, 199, 220, 344, 420, 572, 616, 667, 811, 940, 962, 1033, 1040], 'AAC': [81, 111, 173, 181, 250, 263, 326, 347, 366, 503, 635, 674, 681, 685, 754, 789, 795, 808, 990, 1011, 1058, 1063], 'ACC': [82, 112, 131, 203, 245, 251, 254, 264, 327, 367, 569, 590, 743, 943, 1012], 'CCC': [83, 84, 85, 101, 368, 437, 623, 711, 888, 1055], 'CCT': [92, 132, 158, 334, 393, 598, 640, 718, 925, 944, 1048], 'CTG': [93, 133, 147, 159, 175, 191, 216, 335, 377, 580, 689, 734, 899, 928, 945], 'GGA': [95, 382, 388, 469, 487, 529, 612, 724, 775, 779, 917, 1061], 'ATT': [97, 125, 164, 221, 269, 299, 305, 410, 421, 476, 560, 700, 812, 821, 872, 978, 994, 1043], 'AGA': [104, 152, 231, 267, 294, 303, 567, 670, 714, 781, 783, 862, 868, 870, 906, 909, 1001, 1006], 'GAC': [105, 153, 184, 193, 202, 337, 470, 530, 568, 742, 784, 859, 968, 1018], 'ACA': [106, 185, 194, 224, 291, 403, 636, 675, 785, 787, 790, 796, 809, 860, 1064], 'CAC': [107, 214, 225, 253, 278, 290, 439, 589, 692, 786, 1065], 'GAA': [110, 121, 167, 172, 248, 262, 284, 317, 325, 389, 419, 449, 565, 613, 665, 684, 725, 776, 803, 866, 884, 907, 910, 918, 949, 1007, 1021, 1062], 'ATC': [115, 143, 169, 233, 296, 360, 372, 384, 497, 518, 716, 732, 897, 1034], 'TGA': [120, 166, 192, 201, 210, 261, 283, 301, 316, 324, 336, 418, 460, 495, 741, 802, 865, 883, 948, 1004, 1017], 'TTA': [137, 222, 358, 525, 549, 650, 701, 730, 842], 'GCA': [141, 213, 218, 277, 342, 506, 633, 691, 698, 793, 806, 819, 833, 875, 904, 935, 984, 987, 1031], 'CTT': [155, 349, 394, 523, 548, 576, 599, 719, 765, 970], 'CAA': [186, 219, 292, 343, 364, 571, 634, 752, 788, 794, 797, 807, 810, 834, 988, 997, 1032, 1057], 'AGT': [188, 319, 451, 462, 489, 537, 677, 727, 836, 840, 920], 'ATG': [200, 209, 260, 282, 354, 405, 417, 459, 467, 527, 617, 645, 652, 708, 740, 761, 773, 864, 882, 1003], 'TAT': [208, 259, 281, 359, 409, 473, 475, 517, 526, 559, 651, 731, 1042], 'GAG': [211, 302, 461, 488, 536, 610, 780, 782, 869, 933, 1005, 1028], 'GGC': [287, 341, 375, 398, 482, 521, 607, 697, 736, 763, 832, 914, 930, 953, 974, 1030], 'TCA': [297, 363, 465, 588, 751, 814, 829, 880, 996]}\n"
     ]
    }
   ],
   "source": [
    "print(buildMap(query,3))"
   ]
  },
  {
   "cell_type": "code",
   "execution_count": 39,
   "id": "b46921b7",
   "metadata": {},
   "outputs": [],
   "source": [
    "seq = buildMap(query,3)"
   ]
  },
  {
   "cell_type": "code",
   "execution_count": null,
   "id": "4670d565",
   "metadata": {},
   "outputs": [],
   "source": []
  },
  {
   "cell_type": "code",
   "execution_count": null,
   "id": "7739594f",
   "metadata": {},
   "outputs": [],
   "source": []
  },
  {
   "cell_type": "code",
   "execution_count": null,
   "id": "e3ffb870",
   "metadata": {},
   "outputs": [],
   "source": [
    "#Tentativa que funciona:"
   ]
  },
  {
   "cell_type": "code",
   "execution_count": 25,
   "id": "9c1edc35",
   "metadata": {},
   "outputs": [],
   "source": [
    "def readDatabase(filename):\n",
    "    \"\"\"\n",
    "    Lê um conjunto de sequencias num ficheiro texto, uma por linha.\n",
    "    \n",
    "    \"\"\"\n",
    "    file= open (filename, \"r+\")\n",
    "    db=[]\n",
    "    for line in file.readlines():\n",
    "        db.append(line)\n",
    "    file.close()\n",
    "    return db"
   ]
  },
  {
   "cell_type": "code",
   "execution_count": 24,
   "id": "2d6927dc",
   "metadata": {},
   "outputs": [],
   "source": [
    "def buildMap(query,w):\n",
    "    \"\"\"\n",
    "    \n",
    "    Dada a sequência (**query**) e o tamanho das palavras (**W**) mapea cada ocorrência de sub-sequências de tamanho W. O resultado é um dicionário com:\n",
    "        - Chaves: sub-sequencias de tamanho W (que ocorrem na query);\n",
    "        - Valores: lista de indices (posições onde a sub-sequência ocorre na query).\n",
    "    \n",
    "    \"\"\"\n",
    "    res={}\n",
    "    i=0\n",
    "    while i <= len(query)-w:\n",
    "        q=query[i:i+w]\n",
    "        if q not in res:\n",
    "            res[q]=[i]\n",
    "        else:\n",
    "            res[q].append(i)\n",
    "        i+=1\n",
    "    return res"
   ]
  },
  {
   "cell_type": "code",
   "execution_count": 13,
   "id": "56599e25",
   "metadata": {},
   "outputs": [],
   "source": [
    "def getHits(seq,m,w):\n",
    "    \"\"\"\n",
    "    \n",
    "    Tem como entradas o Mapa da sequência query (criada pela função anterior), Sequência na qual procurar (e.g. da BD) e Valor do tamanho das palavras (W). O seu objetivo é descobrir todas as co-ocorrências de palavras de tamanho W entre a query e a sequência (só serão considerados matches perfeitos de tamanho W). O resultado é uma lista de hits; cada hit é um tuplo, com o 1º elemento sendo a posição da palavra na query e o 2º sendo a posição da palavra na sequência.\n",
    "     \n",
    "    \"\"\"\n",
    "    res=[]\n",
    "    i=0\n",
    "    while i<=len(seq)-w:\n",
    "        s=seq[i:i+w]\n",
    "        if s in m:\n",
    "            for q in m[s]:\n",
    "                res.append((q,i))\n",
    "        i+=1\n",
    "    return res"
   ]
  },
  {
   "cell_type": "code",
   "execution_count": 14,
   "id": "82b3052e",
   "metadata": {},
   "outputs": [],
   "source": [
    "def extendHit (seq,hit,query,w):\n",
    "    \"\"\"\n",
    "    Cada hit será estendido em ambas as direções. Um hit será estendido enquanto o nº de matches nessa direção for pelo menos metade do tamanho da extensão. A função terá como entradas: a sequência (da bd), a query, o hit e o valor de W. O resultado será um tuplo com 4 valores: início do hit estendido na query, início do hit estendido na sequência, tamanho do hit estendido, score do hit estendido (= nº de matches).\n",
    "    \n",
    "    Parâmetros:\n",
    "    - stq: início do hit na query;\n",
    "    - sts: início do hit na sequência;\n",
    "    - matfw: matches à frente;\n",
    "    - k: posições andadas em frente;\n",
    "    - size: tamanho do hit estendido.\n",
    "    \"\"\"\n",
    "    stq,sts =hit[0],hit[1]\n",
    "    matfw =0\n",
    "    k=0\n",
    "    bestk =0\n",
    "    while 2*matfw >=k and stq+w+k < len(query) and sts+w+k < len(seq):\n",
    "        if query[stq+w+k] == seq[sts+w+k]:\n",
    "            matfw+=1\n",
    "            bestk = k+1\n",
    "        k += 1\n",
    "    size = w + bestk\n",
    "    k = 0\n",
    "    matbw = 0\n",
    "    bestk = 0\n",
    "    while 2*matbw >= k and stq > k and sts > k:\n",
    "        if query[stq-k-1] == seq[sts-k-1]:\n",
    "            matbw+=1\n",
    "            bestk = k+1\n",
    "        k+=1\n",
    "    size += bestk\n",
    "    return (stq-bestk, sts-bestk, size, w+matfw+matbw)"
   ]
  },
  {
   "cell_type": "code",
   "execution_count": 15,
   "id": "2e7cd97c",
   "metadata": {},
   "outputs": [],
   "source": [
    "def hitBestScore (seq,query,m,w):\n",
    "    \"\"\"\n",
    "    \n",
    "    Devolve o hit com maior score de uma sequencia com a query. Em caso de empate devolve a de menor tamanho.\n",
    "    \n",
    "    \"\"\"\n",
    "    hits=getHits(seq,m,w)\n",
    "    bestScore =-1.0\n",
    "    best=()\n",
    "    for h in hits:\n",
    "        ext =extendHit(seq,h,query,w)\n",
    "        score=ext[3]\n",
    "        if score > bestScore or (score== bestScore and ext[2] < best[2]):\n",
    "            bestScore = score\n",
    "            best=ext\n",
    "    return best"
   ]
  },
  {
   "cell_type": "code",
   "execution_count": null,
   "id": "5e44db41",
   "metadata": {},
   "outputs": [],
   "source": []
  },
  {
   "cell_type": "code",
   "execution_count": null,
   "id": "99967fc7",
   "metadata": {},
   "outputs": [],
   "source": []
  },
  {
   "cell_type": "code",
   "execution_count": null,
   "id": "e63d705d",
   "metadata": {},
   "outputs": [],
   "source": [
    "#Classe funciona e dá bem"
   ]
  },
  {
   "cell_type": "code",
   "execution_count": null,
   "id": "aee6af80",
   "metadata": {},
   "outputs": [],
   "source": []
  },
  {
   "cell_type": "code",
   "execution_count": null,
   "id": "27dbd59d",
   "metadata": {},
   "outputs": [],
   "source": [
    "class Blast:\n",
    "    '''\n",
    "    Class to perform a Blast between a sequence query, a given sequence and the respective size of the query hits aiming to obtain in the sequence\n",
    "    '''\n",
    "    def __init__(self, seq: str, query: str, w: int):\n",
    "        '''\n",
    "        Blast Class simplified that searches good local alignments of a sequence within another sequence based on perfect matches\n",
    "        Parameters\n",
    "        ----------\n",
    "        seq : str\n",
    "            Sequence\n",
    "            \n",
    "        query : str\n",
    "            Sequence query  \n",
    "            \n",
    "        w : int\n",
    "            It determines the size of the subsequences to search in the seq\n",
    "        '''\n",
    "        assert (type(seq) == str) and (type(query) == str) and (type(w) == int) and (w > 0) and (w < len(query)), \"Query and sequence must be a string and W an integer. W needs to be positive and lower than the size of the query\"\n",
    "        self.seq = seq.upper()\n",
    "        self.query = query.upper()\n",
    "        self.w = w\n",
    "        \n",
    "    def _get_index(self, q: str, query: str) -> list:\n",
    "        '''\n",
    "        Function that searches in the query the indexes of the query subsequences: \"q\". Auxiliar function of query_map\n",
    "        Parameters\n",
    "        ----------\n",
    "        q: str\n",
    "            Query subsequence aiming to search in the query\n",
    "        \n",
    "        query : str\n",
    "            Query sequence serving as a template to find the indexes\n",
    "            \n",
    "        Returns\n",
    "        ----------\n",
    "        index: list\n",
    "            q string positions in the query \n",
    "        '''\n",
    "        assert type(q) == str, \"Sequence must be a string\"\n",
    "        q = q.upper()\n",
    "        \n",
    "        index = []\n",
    "        for ind in range(len(query)):\n",
    "            if q == query[ind:ind + len(q)]: index.append(ind)\n",
    "        return index\n",
    "    \n",
    "    \n",
    "    def query_map(self, query = None, w = None) -> dict:\n",
    "        '''\n",
    "        Construction of a dictionary where the keys are the subsequences of the query with size W and the keys are the indexes \n",
    "        Parameters\n",
    "        ----------\n",
    "        query: str\n",
    "            Query sequence serving as a template to find the indexes\n",
    "        \n",
    "        w: int\n",
    "            Size each subsequence must have\n",
    "        \n",
    "        Returns\n",
    "        ----------\n",
    "        qm: dict\n",
    "            Query subsequences with the corresponding indexes\n",
    "        '''        \n",
    "        if query is None: query = self.query\n",
    "        if w is None: w = self.w\n",
    "        \n",
    "        assert (type(query) == str) and (type(w) == int) and (w > 0) and (w < len(query)), \"Query must be a string and W an integer. W needs to be positive and lower than the size of the query\"\n",
    "        query = query.upper()\n",
    "        \n",
    "        qm = {}\n",
    "        query_div = []\n",
    "        for j in range(w):\n",
    "            query_div.append([query[i: i + w] for i in range(j, len(query), w)])\n",
    "\n",
    "        querys = []\n",
    "        for i in query_div:\n",
    "            for j in i:\n",
    "                if j not in querys and len(j) == w: querys.append(j)\n",
    "\n",
    "        for q in querys:\n",
    "            indices = self._get_index(q, query)\n",
    "            qm[q] = indices\n",
    "\n",
    "        return qm\n",
    "    \n",
    "\n",
    "    def hits(self, qm = None, seq = None) -> list:\n",
    "        '''\n",
    "        Construction of a tuple list with the coordinates of the query subsequences in the query and in the given sequence\n",
    "        \n",
    "        Parameters\n",
    "        ----------\n",
    "        qm : dict\n",
    "            Query subsequences with the corresponding indexes in the query\n",
    "            \n",
    "        seq: str\n",
    "            Sequence serving as a template to search the indexes\n",
    "        Returns\n",
    "        ----------\n",
    "        hits: list\n",
    "            Tuple list with the first member of the tuple being the coordinate in the query and the second in the given sequence\n",
    "        '''        \n",
    "        if seq is None:\n",
    "            seq = self.seq\n",
    "        \n",
    "        if qm is None:\n",
    "            qm = self.query_map()\n",
    "        \n",
    "        assert type(qm) == dict and all(type(k) == str for k in qm.keys()) and \\\n",
    "               all(type(v) in [list,tuple] for v in qm.values()) and type(seq) == str, \"Query map (qm) must be a dictionary and sequence a string\"\n",
    "        \n",
    "        for q in qm:\n",
    "            assert all(isinstance(x,int) for x in qm[q]) and all( x >= 0 for x in qm[q]), \"Query map (qm) values must only contain integeres and positives\"\n",
    "        seq = seq.upper()\n",
    "        \n",
    "        hits = []\n",
    "        for key, value in qm.items():\n",
    "            for m in value:\n",
    "                for i in range(len(seq)):\n",
    "                    if key == seq[i:i + len(key)]: hits.append((m, i))\n",
    "        return hits\n",
    "    \n",
    "    \n",
    "    def extend_hit(self, index: list, query = None, seq = None, w = None) -> tuple:\n",
    "        '''\n",
    "        Construction of a tuple with the index of the beginning of the extended hit in the query, in the sequence, the respective size, and number of matches\n",
    "        Parameters\n",
    "        ----------\n",
    "        index : list\n",
    "            Specific hit to be extended in each direction\n",
    "        \n",
    "        query: str\n",
    "            Sequence query\n",
    "            \n",
    "        seq: str\n",
    "            Sequence\n",
    "        \n",
    "        w: int\n",
    "            It determines the size of the subsequences to search in the seq\n",
    "        Returns\n",
    "        ----------\n",
    "        ind_query_left, ind_seq_left, len(seq_final), cont_final: tuple\n",
    "            Returns respectively index of the extended hit in the query, in the sequence, size of the hit, and the respective number of matches\n",
    "        '''        \n",
    "        if query is None: query = self.query\n",
    "        if seq is None: seq = self.seq\n",
    "        if w is None: w = self.w\n",
    "        \n",
    "        assert type(index) in [list, tuple] and type(seq) == str and type(query) == str and type(w) == int and w > 0 and w < len(query), \"Unfeasible Parameters!\"\n",
    "        query = query.upper()\n",
    "        seq = seq.upper()\n",
    "        \n",
    "        ind_query_left = index[0]\n",
    "        ind_seq_left = index[1]\n",
    "        ind_query_right = index[0]\n",
    "        ind_seq_right = index[1]\n",
    "        cont_left = 0\n",
    "        cont_left_iguais = 0\n",
    "        cont_right = 0\n",
    "        cont_right_iguais = 0\n",
    "        score = 1\n",
    "        while score >= 0.5:\n",
    "            if ind_seq_left == 0 or ind_query_left == 0: break\n",
    "            cont_left += 1\n",
    "            if (ind_seq_left - w) < 0 or (ind_query_left - w) < 0:\n",
    "                ind_seq_left -= 1\n",
    "                ind_query_left -= 1\n",
    "            else:\n",
    "                ind_seq_left -= w\n",
    "                ind_query_left -= w\n",
    "\n",
    "            if seq[ind_seq_left] == query[ind_query_left]: cont_left_iguais += 1\n",
    "\n",
    "            if cont_left > 1: score = cont_left_iguais / cont_left\n",
    "\n",
    "        while score >= 0.5:\n",
    "            if ind_seq_right == len(seq) - 1 or ind_query_right == len(query) - 1: break\n",
    "            cont_right += 1\n",
    "            if (ind_seq_right + w) > len(seq) - 1 or (ind_query_right + w) > len(query) - 1:\n",
    "                ind_seq_right += 1\n",
    "                ind_query_right += 1\n",
    "            else:\n",
    "                ind_seq_right += w\n",
    "                ind_query_right += w\n",
    "\n",
    "            if seq[ind_seq_right] == query[ind_query_right]: cont_right_iguais += 1\n",
    "\n",
    "            if cont_right > 1: score = cont_right_iguais / cont_right\n",
    "\n",
    "        seq_final = seq[ind_seq_left:ind_seq_right + 1]\n",
    "        query_final = query[ind_query_left:ind_query_right + 1]\n",
    "\n",
    "        cont_final = 0\n",
    "        for i in range(len(seq_final)):\n",
    "            if seq_final[i] == query_final[i]: cont_final += 1\n",
    "            \n",
    "        return ind_query_left, ind_seq_left, len(seq_final), cont_final\n",
    "    \n",
    "    \n",
    "    def best_hit(self, hits = None) -> tuple:\n",
    "        '''\n",
    "        Returns the best extension of hit\n",
    "        Parameters\n",
    "        ----------\n",
    "        hits: list\n",
    "            Coordinates of query subsequences in the query and sequence\n",
    "        Returns\n",
    "        ----------\n",
    "        index[0], index[1], size_max, score_max: tuple\n",
    "            Returns respectively index of the best hit in the query, in the sequence, max size of the hit, and the best hit score\n",
    "        '''\n",
    "        if hits is None:\n",
    "            hits = self.hits()\n",
    "            \n",
    "        assert type(hits) == list and len(hits) > 0, \"Parameter hits must be a list and cannot be empty\"\n",
    "        \n",
    "        list_scores = {}\n",
    "        list_size = {}\n",
    "        for i in hits:\n",
    "            ind_query, ind_seq, size, score = self.extend_hit(i)\n",
    "            list_scores[i] = score\n",
    "            list_size[i] = size\n",
    "\n",
    "        score_max = max(list_scores.values())\n",
    "        keys = []\n",
    "        for key, value in list_scores.items():\n",
    "            if value == score_max:\n",
    "                keys.append(key)\n",
    "\n",
    "        final_dic = {}\n",
    "        for i in keys:\n",
    "            for key, value in list_size.items():\n",
    "                if i == key: final_dic[key] = value\n",
    "\n",
    "        size_max = max(list_size.values())\n",
    "        for key, value in final_dic.items():\n",
    "            if value == size_max: \n",
    "                index = key\n",
    "                break\n",
    "\n",
    "        return index[0], index[1], size_max, score_max"
   ]
  },
  {
   "cell_type": "code",
   "execution_count": 40,
   "id": "8415f43e",
   "metadata": {},
   "outputs": [
    {
     "data": {
      "text/plain": [
       "[(0, 0),\n",
       " (0, 11),\n",
       " (0, 14),\n",
       " (0, 17),\n",
       " (0, 21),\n",
       " (3, 0),\n",
       " (3, 11),\n",
       " (3, 14),\n",
       " (3, 17),\n",
       " (3, 21),\n",
       " (1, 1),\n",
       " (1, 12),\n",
       " (1, 15),\n",
       " (1, 18),\n",
       " (2, 2),\n",
       " (2, 6),\n",
       " (2, 10),\n",
       " (2, 13),\n",
       " (2, 16)]"
      ]
     },
     "execution_count": 40,
     "metadata": {},
     "output_type": "execute_result"
    }
   ],
   "source": [
    "d = Blast(\"ATGATAGATAGATGATGATGAATG\", \"ATGATG\", w=3)\n",
    "d.hits()"
   ]
  },
  {
   "cell_type": "code",
   "execution_count": 42,
   "id": "252c7252",
   "metadata": {},
   "outputs": [
    {
     "data": {
      "text/plain": [
       "{'ATG': [0, 3], 'TGA': [1], 'GAT': [2]}"
      ]
     },
     "execution_count": 42,
     "metadata": {},
     "output_type": "execute_result"
    }
   ],
   "source": [
    "d = Blast(\"ATGATAGATAGATGATGATGAATG\", \"ATGATG\", w=3)\n",
    "d.query_map()"
   ]
  },
  {
   "cell_type": "code",
   "execution_count": 59,
   "id": "2e555a46",
   "metadata": {},
   "outputs": [
    {
     "data": {
      "text/plain": [
       "(0, 11, 6, 6)"
      ]
     },
     "execution_count": 59,
     "metadata": {},
     "output_type": "execute_result"
    }
   ],
   "source": [
    "d = Blast(\"ATGATAGATAGATGATGATGAATG\", \"ATGATG\", w=3)\n",
    "d.extend_hit((0, 11),\"ATGATG\",\"ATGATAGATAGATGATGATGAATG\", w=3)"
   ]
  }
 ],
 "metadata": {
  "kernelspec": {
   "display_name": "Python 3 (ipykernel)",
   "language": "python",
   "name": "python3"
  },
  "language_info": {
   "codemirror_mode": {
    "name": "ipython",
    "version": 3
   },
   "file_extension": ".py",
   "mimetype": "text/x-python",
   "name": "python",
   "nbconvert_exporter": "python",
   "pygments_lexer": "ipython3",
   "version": "3.9.12"
  }
 },
 "nbformat": 4,
 "nbformat_minor": 5
}
