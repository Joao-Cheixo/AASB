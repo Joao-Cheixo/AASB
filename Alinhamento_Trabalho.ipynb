{
 "cells": [
  {
   "cell_type": "markdown",
   "id": "7d905724",
   "metadata": {},
   "source": [
    "__AASB Trabalho__"
   ]
  },
  {
   "cell_type": "markdown",
   "id": "70fdbcd6",
   "metadata": {},
   "source": [
    "Algoritmos de alinhamento global e local entre sequências e reconstrução do respetivo alinhamento"
   ]
  },
  {
   "cell_type": "code",
   "execution_count": 217,
   "id": "e7bb4017",
   "metadata": {},
   "outputs": [],
   "source": [
    "import re\n",
    "from math import log\n",
    "from threading import local\n",
    "from typing import List, Type\n",
    "from unittest import result\n",
    "import unittest"
   ]
  },
  {
   "cell_type": "code",
   "execution_count": 123,
   "id": "ddd3ef25",
   "metadata": {},
   "outputs": [],
   "source": [
    "Calbicans = \"AGTTTAAAAATAGCCTGATATATCAATAGGATAGGATAGGTTAGGATGGGATGGGAAGGGAGGGGGAGGTAATGAGTTGAAGGAAGAAGTAAATACAAAATAAGGAACTTAAAAAAATTGGGTTGAAACTGTGAATAAATGGTAATTTCGATAAGAATGAATCAAATCCAAATAATAACTATTATTGTAGAATAAAGATATATATCTCTTTTTTAGTTATAAACCTTTCTTATCAATTAAAGAAAGGGGGAACTAAACAGAAAAATGGGGGAAAGATTAATAAATTGTGGGAATCAATCAAATCAGCTGAAAGAAGAAGAAGAAGAAGAAGAAAGTCCTGCCCTTCCACCCCTCCCCCCGCGCCCTCGTATTACATAATCAACATTAAACGTTATTATCATCAGCATTGCCTTATTTGGAAATCTAGCACGTGATATTACATAAACACAACACAGAATTGGCTTCTGCACACGACCTTACTTAACACTTGAATCAAAAAAAAAAAAAGTCACAACAACAATATTGAAAAGTTCAATCCAACCTATACACCAAGACCAACTTAACCCAACATTCCTTAATTATGGCAGATAGATTAACTCAATTACAAATTTGTTTAGACCAGCTAATTCAACAATTCAATTCAACGATAAATTATGTCAATACCAGTGCCGAACCCAGTCTATTAGATGACGATGATGTCAACTCCTATTCCAATATGGCAGCTAATGCCCCATTGCCACAATCCCAACAACAACGGCAACAACAAAAGAAACAACAGGAACCACAGCAAGAAATAGAACAACCACAACAACAAAGTAACCCTGAATCAAAGAGTATTTCTCCGCCAAAAGAAAAAGTGAGTTTTGATAATGTAATCAATGAGTTATGCACAGATTTAATTTTGAAAAGTCGACAAATCAAAATGTTAATTGATTCATTACCTGGTATAGGAGTTACACCCAATGAACAAATGAATCTAATCAATGAATTAAGTGATAAATTGCAAGCTATAGAAGAAGAAAGAATTCAAAAAATCAAAGAAAAAGATAATCTATTAAATCTATTAGAAAGTATGATTAAAGAGGTAGTTAATGGTATAACCGAAACAAGAATATGATAAAAAAAGAAATACTTTCAGCTTCTATTGTTCTCCCCCCCCCTCTATTTAACCTGTATATGTCATACAATCAATGTCCCAATTTGGAAACCATTTATGAGAATTACATTGATCTAATGTCCATGGCAATCCATATGTGATTGGTATAAATTCATAAAAGCAGTATATTGCACTGACAAATATTGTTGCAGTTATTATACCACCAATAATTTTGTTTTTAGCGACACGATAATTCAAATATTGACTTAATAATAATATTCCAAAATTTAATGCCAGTAAATAATGATGTAAATATAAGTTTCTTGACATGAGACAATAAGGAATATAATTAATAAACCATCCCACCAAATATGGCCAGGAATTGTTGTAAAAGTTGGCATATGGTGATGATTTGGATGATGATGGAGGAGATGCATAAGGGTTTAACTTTATAAACGAATAAATGGCACATTTGAATATAGCTATTAAACCCACAAAAAATACCAGATAATAAATGGCAACATTTCCTAAATAATAAAATAGACTTGATTCTTCATCGATTGATTTCAAATTGTA\""
   ]
  },
  {
   "cell_type": "code",
   "execution_count": 124,
   "id": "a3a82b8c",
   "metadata": {},
   "outputs": [],
   "source": [
    "Ecoli = \"ACTCCATACGGTTGTTGGTGGTGCGGGTGTAGCCAGCGCTAAAGGTTTTCTCGCGTCCGCGATAGCGTAAAATAGCGCCGTAACCCCCAGGTCCTGGATTGCCCAGACACGAACCATCGGTGAAAATTTCTACCTGTTTAAGCATCTCTGGTAGACTTCCTGTAATTGAATCGAACTGTAAAACGACAAGTCTGACATAAATGACCGCTATGAGCACTGCAATTACACGCCAGATCGTTCTCGATACCGAAACCACCGGTATGAACCAGATTGGTGCGCACTATGAAGGCCACAAGATCATTGAGATTGGTGCCGTTGAAGTGGTGAACCGTCGCCTGACGGGCAATAACTTCCATGTTTATCTCAAACCCGATCGGCTGGTGGATCCGGAAGCCTTTGGCGTACATGGTATTGCCGATGAATTTTTGCTCGATAAGCCCACGTTTGCCGAAGTAGCCGATGAGTTCATGGACTATATTCGCGGCGCGGAGTTGGTGATCCATAACGCAGCGTTCGATATCGGCTTTATGGACTACGAGTTTTCGTTGCTTAAGCGCGATATTCCGAAGACCAATACTTTCTGTAAGGTCACCGATAGCCTTGCGGTGGCGAGGAAAATGTTTCCCGGTAAGCGCAACAGCCTCGATGCGTTATGTGCTCGCTACGAAATAGATAACAGTAAACGAACGCTGCACGGGGCATTACTCGATGCCCAGATCCTTGCGGAAGTTTATCTGGCGATGACCGGTGGTCAAACGTCGATGGCTTTTGCGATGGAAGGAGAGACACAACAGCAACAAGGTGAAGCAACAATTCAGCGCATTGTACGTCAGGCAAGTAAGTTACGCGTTGTTTTTGCGACAGATGAAGAGATTGCAGCTCATGAAGCCCGTCTCGATCTGGTGCAGAAGAAAGGCGGAAGTTGCCTCTGGCGAGCATAAATACCTGTGAAAGGCGCTAAAAATAGCGACTTGGGCGATTTTTGCAGCAAACGATTCAAAAGATGAGAAAAACCGTTGACGAAGGTCGAGGCAATCCGTAATATTCGCCTCGTTCCCAACGGAACAC\""
   ]
  },
  {
   "cell_type": "code",
   "execution_count": 125,
   "id": "6e5d1c20",
   "metadata": {},
   "outputs": [],
   "source": [
    "def create_mat (nrows: int, ncols: int):\n",
    "    \"\"\"Creates a matrix filled with zeros with a given number of columns and rows\n",
    "    Args:\n",
    "        nrows (int): number of rows\n",
    "        ncols (int): number of columns\n",
    "    \"\"\"\n",
    "    mat = []\n",
    "    for i in range(nrows):\n",
    "        mat.append([])\n",
    "        for j in range(ncols):\n",
    "            mat[i].append(0)\n",
    "            \n",
    "    return mat"
   ]
  },
  {
   "cell_type": "code",
   "execution_count": 126,
   "id": "56d1e5dc",
   "metadata": {},
   "outputs": [],
   "source": [
    "def dotplot (seq1: str, seq2: str):\n",
    "    \"\"\"Creates a matrix filled with zeros using the create_mat function and then place\n",
    "    ones in the appropriate places where the characters in the two sequences are equal. \n",
    "    Args:\n",
    "        seq1 (str): Sequence 1  \n",
    "        seq2 (str): Sequence 2\n",
    "    \"\"\"\n",
    "    mat = create_mat(len(seq1), len(seq2))\n",
    "    for i in range(len(seq1)):\n",
    "        for j in range(len(seq2)):\n",
    "            if seq1[i] == seq2[j]:\n",
    "                mat[i][j] = \"*\"\n",
    "            else:\n",
    "                mat[i][j] = \" \"\n",
    "    return mat"
   ]
  },
  {
   "cell_type": "code",
   "execution_count": 127,
   "id": "bde45b27",
   "metadata": {},
   "outputs": [],
   "source": [
    "def print_dotplot(mat: \"create_mat\", s1: str, s2: str):\n",
    "    \"\"\"Prints a visual friendly version of the dotplot\n",
    "    Args:\n",
    "        mat (create_mat): A matrix object\n",
    "        s1 (str): Sequence 1\n",
    "        s2 (str): Sequence 2\n",
    "    \"\"\"\n",
    "    print(\" \", s2)\n",
    "    for i in range(len(mat)):\n",
    "        print(s1[i], \" \", *mat[i], sep=\"\")"
   ]
  },
  {
   "cell_type": "code",
   "execution_count": 128,
   "id": "f4d60c8b",
   "metadata": {},
   "outputs": [
    {
     "name": "stdout",
     "output_type": "stream",
     "text": [
      "  GCATGCU\n",
      "G *   *  \n",
      "A   *    \n",
      "T    *   \n",
      "T    *   \n",
      "A   *    \n",
      "C  *   * \n",
      "A   *    \n"
     ]
    }
   ],
   "source": [
    "if __name__ == \"__main__\":\n",
    "    seq1 = \"GATTACA\"\n",
    "    seq2 = \"GCATGCU\"\n",
    "    a = dotplot(seq1, seq2)\n",
    "    print_dotplot(a, seq1, seq2)\n"
   ]
  },
  {
   "cell_type": "code",
   "execution_count": 129,
   "id": "2859e1f8",
   "metadata": {},
   "outputs": [],
   "source": [
    "x = \"GATTACA\"\n",
    "y = \"GCATGCU\""
   ]
  },
  {
   "cell_type": "code",
   "execution_count": 179,
   "id": "054c10a8",
   "metadata": {},
   "outputs": [],
   "source": [
    "def alinhamentos(s1: str, s2: str, blossum: bool = False,  eqs: int = 2, diffs: int = 0, g: int = -1, local: bool = False, mat_print: bool = False):\n",
    "    '''\n",
    "    Esta função recebe duas sequências e realiza um alinhamento local ou global, conforme escolha do utilizador. É também possivel escolher\n",
    "    a utilização, ou não, da matriz BLOSSUM para calculo do score ou podem ser passados como argumentos os valores para o calculo do mesmo.\n",
    "    Inputs:\n",
    "        :s1: Sequência 1\n",
    "        :type s1: str\n",
    "        :s2: Sequência 2\n",
    "        :type s2: str\n",
    "        :blossum: Matriz BLOSSUM\n",
    "        :type blossum: bool\n",
    "        :eqs: Valor do score para bases iguais\n",
    "        :type eqs: int\n",
    "        :diffs: Valor do score para bases diferentes\n",
    "        :type diffs: int\n",
    "        :g: Valor do score para espaçamento\n",
    "        :type g: int\n",
    "        :local: Tipo de alinhamento\n",
    "        :type local: bool\n",
    "        :printing: Modo de retorno do output\n",
    "        :type printing: bool\n",
    "    Returns:\n",
    "        :return matriz int: Matriz com o valor do score\n",
    "        :return matriz traceback: Matriz traceback do alinhamento\n",
    "        :return score alinhamento: Score do alinhamento\n",
    "        :return alinhamento: Duas sequências alinhadas\n",
    "    '''\n",
    "    if type(s1) not in [str] or type(s2) not in [str]:\n",
    "        raise TypeError ('As suas sequências devem ser strings')\n",
    "\n",
    "    if s1 not in s1.upper() or s2 not in s2.upper():\n",
    "        raise TypeError ('As suas sequências devem estar em maiúsculas')"
   ]
  },
  {
   "cell_type": "code",
   "execution_count": 175,
   "id": "e4aa8398",
   "metadata": {},
   "outputs": [],
   "source": [
    "def blossum62():\n",
    "        linhas = '''   A  R  N  D  C  Q  E  G  H  I  L  K  M  F  P  S  T  W  Y  V  B  Z  X  *\n",
    "        A  4 -1 -2 -2  0 -1 -1  0 -2 -1 -1 -1 -1 -2 -1  1  0 -3 -2  0 -2 -1  0 -4\n",
    "        R -1  5  0 -2 -3  1  0 -2  0 -3 -2  2 -1 -3 -2 -1 -1 -3 -2 -3 -1  0 -1 -4\n",
    "        N -2  0  6  1 -3  0  0  0  1 -3 -3  0 -2 -3 -2  1  0 -4 -2 -3  3  0 -1 -4\n",
    "        D -2 -2  1  6 -3  0  2 -1 -1 -3 -4 -1 -3 -3 -1  0 -1 -4 -3 -3  4  1 -1 -4\n",
    "        C  0 -3 -3 -3  9 -3 -4 -3 -3 -1 -1 -3 -1 -2 -3 -1 -1 -2 -2 -1 -3 -3 -2 -4\n",
    "        Q -1  1  0  0 -3  5  2 -2  0 -3 -2  1  0 -3 -1  0 -1 -2 -1 -2  0  3 -1 -4\n",
    "        E -1  0  0  2 -4  2  5 -2  0 -3 -3  1 -2 -3 -1  0 -1 -3 -2 -2  1  4 -1 -4\n",
    "        G  0 -2  0 -1 -3 -2 -2  6 -2 -4 -4 -2 -3 -3 -2  0 -2 -2 -3 -3 -1 -2 -1 -4\n",
    "        H -2  0  1 -1 -3  0  0 -2  8 -3 -3 -1 -2 -1 -2 -1 -2 -2  2 -3  0  0 -1 -4\n",
    "        I -1 -3 -3 -3 -1 -3 -3 -4 -3  4  2 -3  1  0 -3 -2 -1 -3 -1  3 -3 -3 -1 -4\n",
    "        L -1 -2 -3 -4 -1 -2 -3 -4 -3  2  4 -2  2  0 -3 -2 -1 -2 -1  1 -4 -3 -1 -4\n",
    "        K -1  2  0 -1 -3  1  1 -2 -1 -3 -2  5 -1 -3 -1  0 -1 -3 -2 -2  0  1 -1 -4\n",
    "        M -1 -1 -2 -3 -1  0 -2 -3 -2  1  2 -1  5  0 -2 -1 -1 -1 -1  1 -3 -1 -1 -4\n",
    "        F -2 -3 -3 -3 -2 -3 -3 -3 -1  0  0 -3  0  6 -4 -2 -2  1  3 -1 -3 -3 -1 -4\n",
    "        P -1 -2 -2 -1 -3 -1 -1 -2 -2 -3 -3 -1 -2 -4  7 -1 -1 -4 -3 -2 -2 -1 -2 -4\n",
    "        S  1 -1  1  0 -1  0  0  0 -1 -2 -2  0 -1 -2 -1  4  1 -3 -2 -2  0  0  0 -4\n",
    "        T  0 -1  0 -1 -1 -1 -1 -2 -2 -1 -1 -1 -1 -2 -1  1  5 -2 -2  0 -1 -1  0 -4\n",
    "        W -3 -3 -4 -4 -2 -2 -3 -2 -2 -3 -2 -3 -1  1 -4 -3 -2 11  2 -3 -4 -3 -2 -4\n",
    "        Y -2 -2 -2 -3 -2 -1 -2 -3  2 -1 -1 -2 -1  3 -3 -2 -2  2  7 -1 -3 -2 -1 -4\n",
    "        V  0 -3 -3 -3 -1 -2 -2 -3 -3  3  1 -2  1 -1 -2 -2  0 -3 -1  4 -3 -2 -1 -4\n",
    "        B -2 -1  3  4 -3  0  1 -1  0 -3 -4  0 -3 -3 -2  0 -1 -4 -3 -3  4  1 -1 -4\n",
    "        Z -1  0  0  1 -3  3  4 -2  0 -3 -3  1 -1 -3 -1  0 -1 -3 -2 -2  1  4 -1 -4\n",
    "        X  0 -1 -1 -1 -2 -1 -1 -1 -1 -1 -1 -1 -1 -1 -2  0  0 -2 -1 -1 -1 -1 -1 -4\n",
    "        * -4 -4 -4 -4 -4 -4 -4 -4 -4 -4 -4 -4 -4 -4 -4 -4 -4 -4 -4 -4 -4 -4 -4  1'''\n",
    "        blossum = {}\n",
    "        headers, *mat = [linha.split() for linha in linhas.splitlines()]\n",
    "        for linha in mat:\n",
    "            letra, *resto = linha\n",
    "            blossum[letra] = {}\n",
    "            for outra, val in zip(headers, resto):\n",
    "                blossum[letra][outra] = int(val)\n",
    "        return blossum"
   ]
  },
  {
   "cell_type": "code",
   "execution_count": 183,
   "id": "511c5065",
   "metadata": {},
   "outputs": [],
   "source": [
    "def score_blossum(x1, x2, blossum):\n",
    "    return blossum[x1][x2]\n",
    "\n",
    "def score(x1, x2, eqs = 2, diffs = 0): # match é 2 e nao match -1\n",
    "    return eqs if x1 == x2 else diffs\n",
    "\n",
    "def pmat(s1, s2, mat):\n",
    "    print(\" \", *(\"-\" +s2), sep = \" \" * 3)\n",
    "    for x1, linha in zip(\"-\" + s1, mat):\n",
    "        print(x1, *[f\"{x : 3d}\"for x in linha])\n",
    "\n",
    "def ptr(s1, s2, mat):\n",
    "    print(\" \", *(\"-\" +s2), sep = \" \" * 3)\n",
    "    for x1, linha in zip(\"-\" + s1, mat):\n",
    "        print(x1, *[f\"{x.rjust(3)}\"for x in linha])"
   ]
  },
  {
   "cell_type": "code",
   "execution_count": 184,
   "id": "2b872577",
   "metadata": {},
   "outputs": [],
   "source": [
    "def align(s1, s2, g):\n",
    "        blossum = []\n",
    "        #g = -8\n",
    "        mat = [[0 for C in range(len(s2) + 1)] for L in range(len(s1) + 1)]\n",
    "        tr = [[\" \" for C in range(len(s2) + 1)] for L in range(len(s1) + 1)]\n",
    "        for L in range(len(s1)):\n",
    "            mat[L + 1][0] =mat[L][0] + g\n",
    "            tr[L + 1][0] = \"C\"\n",
    "        for C in range(len(s2)):\n",
    "            mat[0][C + 1] =mat[0][C] + g\n",
    "            tr[0][C + 1] = \"E\"\n",
    "        if local:\n",
    "            for L in range(len(s1)):\n",
    "                mat[L + 1][0] = 0\n",
    "                tr[L + 1][0] = \"0\"\n",
    "            for C in range(len(s2)):\n",
    "                mat[0][C + 1] = 0\n",
    "                tr[0][C + 1] = \"0\"\n",
    "        for L, x1 in enumerate(s1):\n",
    "            for C, x2 in enumerate(s2):\n",
    "                if blossum:\n",
    "                    valor = [mat[L][C] + score_blossum(x1, x2, blossum62),  # diagonal\n",
    "                             mat[L + 1][C] + g,  # vertical\n",
    "                             mat[L][C + 1] + g]  # horizontal\n",
    "\n",
    "                else:\n",
    "                    valor=[mat[L][C] + score(x1, x2), #diagonal\n",
    "                        mat[L + 1][C    ] + g, #vertical\n",
    "                        mat[L    ][C + 1] + g] #horizontal\n",
    "\n",
    "                if local: valor.append(0)\n",
    "                direcoes = \"D E C 0\".split()\n",
    "                mat[L + 1][C + 1] = max(valor)\n",
    "                tr[L + 1][C + 1] = direcoes[valor.index(mat[L + 1][C + 1])]\n",
    "                if sorted(valor)[-1] == sorted(valor)[-2]:\n",
    "                    if valor[0] == valor[1]: tr[L + 1][C + 1] = \"DE\"\n",
    "                    if valor[0] == valor[2]: tr[L + 1][C + 1] = \"DC\"\n",
    "                    if valor[1] == valor[2]: tr[L + 1][C + 1] = \"EC\"\n",
    "                    if valor[0] == valor[1] and valor[0] == valor[2]: tr[L + 1][C + 1] = \"DCE\"\n",
    "\n",
    "        return mat, tr"
   ]
  },
  {
   "cell_type": "code",
   "execution_count": 197,
   "id": "9f6aa1e7",
   "metadata": {},
   "outputs": [],
   "source": [
    "mat_valores, mat_direcoes = align(x,y, g=1)"
   ]
  },
  {
   "cell_type": "code",
   "execution_count": null,
   "id": "767af0cc",
   "metadata": {},
   "outputs": [],
   "source": []
  },
  {
   "cell_type": "code",
   "execution_count": 213,
   "id": "6ff0071a",
   "metadata": {},
   "outputs": [],
   "source": [
    "def alinhamento_progressivo(seqs: List[str]) -> List[str]:\n",
    "    '''\n",
    "    Esta função recebe um lista de sequências e alinha-as progressivamente utilizando a ordem pela qual estão na lista.\n",
    "    :seqs: Lista de sequências, ordenadas de forma decrescente pelo tamanho\n",
    "    :type seqs: List\n",
    "    :return seqs: Lista de sequências alinhadas progressivamente\n",
    "    :rtype seqs: List\n",
    "    '''\n",
    "\n",
    "    if type(seqs) not in [list]:\n",
    "        raise TypeError ('Deve inserir uma lista de sequências (strings) a alinhar')\n",
    "        \n",
    "    def global_align(s1, s2):\n",
    "        sequencias = alinhamentos(s1, s2, eqs=4, diffs=-1, g=-4)\n",
    "        A1, A2 = sequencias[0], sequencias[1]\n",
    "        return A1, A2\n",
    "\n",
    "    def consensus(s1, s2):\n",
    "        return \"\".join(x1 if x1 == x2 else x1 if x2 == \"-\" else x2 for x1, x2 in zip(s1, s2))\n",
    "\n",
    "    def malign(seqs):\n",
    "        s1, s2, *resto = seqs\n",
    "        A1, A2 = global_align(s1, s2)\n",
    "        res = [A1, A2]\n",
    "        Cons = consensus(A1, A2)\n",
    "        for s in resto:\n",
    "            A1, A2 = global_align(Cons, s)\n",
    "            res.append(A2)\n",
    "            Cons = consensus(A1, A2)\n",
    "\n",
    "        res = []\n",
    "        for s in seqs:\n",
    "            A1, A2 = global_align(Cons, s)\n",
    "            res.append(A2)\n",
    "        return res\n",
    "    return malign(seqs)"
   ]
  },
  {
   "cell_type": "code",
   "execution_count": 233,
   "id": "1157a5f6",
   "metadata": {},
   "outputs": [
    {
     "ename": "TypeError",
     "evalue": "'NoneType' object is not subscriptable",
     "output_type": "error",
     "traceback": [
      "\u001b[1;31m---------------------------------------------------------------------------\u001b[0m",
      "\u001b[1;31mTypeError\u001b[0m                                 Traceback (most recent call last)",
      "Input \u001b[1;32mIn [233]\u001b[0m, in \u001b[0;36m<cell line: 1>\u001b[1;34m()\u001b[0m\n\u001b[1;32m----> 1\u001b[0m \u001b[43malinhamento_progressivo\u001b[49m\u001b[43m(\u001b[49m\u001b[43m[\u001b[49m\u001b[38;5;124;43m\"\u001b[39;49m\u001b[38;5;124;43mACTCATAGTCATACGTCCT\u001b[39;49m\u001b[38;5;124;43m\"\u001b[39;49m\u001b[43m,\u001b[49m\u001b[38;5;124;43m\"\u001b[39;49m\u001b[38;5;124;43mAGTCATACGTCCT\u001b[39;49m\u001b[38;5;124;43m\"\u001b[39;49m\u001b[43m]\u001b[49m\u001b[43m)\u001b[49m\n",
      "Input \u001b[1;32mIn [213]\u001b[0m, in \u001b[0;36malinhamento_progressivo\u001b[1;34m(seqs)\u001b[0m\n\u001b[0;32m     34\u001b[0m         res\u001b[38;5;241m.\u001b[39mappend(A2)\n\u001b[0;32m     35\u001b[0m     \u001b[38;5;28;01mreturn\u001b[39;00m res\n\u001b[1;32m---> 36\u001b[0m \u001b[38;5;28;01mreturn\u001b[39;00m \u001b[43mmalign\u001b[49m\u001b[43m(\u001b[49m\u001b[43mseqs\u001b[49m\u001b[43m)\u001b[49m\n",
      "Input \u001b[1;32mIn [213]\u001b[0m, in \u001b[0;36malinhamento_progressivo.<locals>.malign\u001b[1;34m(seqs)\u001b[0m\n\u001b[0;32m     21\u001b[0m \u001b[38;5;28;01mdef\u001b[39;00m \u001b[38;5;21mmalign\u001b[39m(seqs):\n\u001b[0;32m     22\u001b[0m     s1, s2, \u001b[38;5;241m*\u001b[39mresto \u001b[38;5;241m=\u001b[39m seqs\n\u001b[1;32m---> 23\u001b[0m     A1, A2 \u001b[38;5;241m=\u001b[39m \u001b[43mglobal_align\u001b[49m\u001b[43m(\u001b[49m\u001b[43ms1\u001b[49m\u001b[43m,\u001b[49m\u001b[43m \u001b[49m\u001b[43ms2\u001b[49m\u001b[43m)\u001b[49m\n\u001b[0;32m     24\u001b[0m     res \u001b[38;5;241m=\u001b[39m [A1, A2]\n\u001b[0;32m     25\u001b[0m     Cons \u001b[38;5;241m=\u001b[39m consensus(A1, A2)\n",
      "Input \u001b[1;32mIn [213]\u001b[0m, in \u001b[0;36malinhamento_progressivo.<locals>.global_align\u001b[1;34m(s1, s2)\u001b[0m\n\u001b[0;32m     13\u001b[0m \u001b[38;5;28;01mdef\u001b[39;00m \u001b[38;5;21mglobal_align\u001b[39m(s1, s2):\n\u001b[0;32m     14\u001b[0m     sequencias \u001b[38;5;241m=\u001b[39m alinhamentos(s1, s2, eqs\u001b[38;5;241m=\u001b[39m\u001b[38;5;241m4\u001b[39m, diffs\u001b[38;5;241m=\u001b[39m\u001b[38;5;241m-\u001b[39m\u001b[38;5;241m1\u001b[39m, g\u001b[38;5;241m=\u001b[39m\u001b[38;5;241m-\u001b[39m\u001b[38;5;241m4\u001b[39m)\n\u001b[1;32m---> 15\u001b[0m     A1, A2 \u001b[38;5;241m=\u001b[39m \u001b[43msequencias\u001b[49m\u001b[43m[\u001b[49m\u001b[38;5;241;43m0\u001b[39;49m\u001b[43m]\u001b[49m, sequencias[\u001b[38;5;241m1\u001b[39m]\n\u001b[0;32m     16\u001b[0m     \u001b[38;5;28;01mreturn\u001b[39;00m A1, A2\n",
      "\u001b[1;31mTypeError\u001b[0m: 'NoneType' object is not subscriptable"
     ]
    }
   ],
   "source": [
    "alinhamento_progressivo([\"ACTCATAGTCATACGTCCT\",\"AGTCATACGTCCT\"])"
   ]
  },
  {
   "cell_type": "code",
   "execution_count": null,
   "id": "69664647",
   "metadata": {},
   "outputs": [],
   "source": []
  },
  {
   "cell_type": "code",
   "execution_count": null,
   "id": "52295f12",
   "metadata": {},
   "outputs": [],
   "source": []
  },
  {
   "cell_type": "code",
   "execution_count": 130,
   "id": "20450626",
   "metadata": {},
   "outputs": [
    {
     "name": "stdout",
     "output_type": "stream",
     "text": [
      "G-ATTACA\n",
      "GCA-TGCU\n"
     ]
    }
   ],
   "source": [
    "import numpy as np\n",
    "\n",
    "def nw(x, y, match = 1, mismatch = 1, gap = 1):\n",
    "    nx = len(x)\n",
    "    ny = len(y)\n",
    "    \n",
    "    F = np.zeros((nx + 1, ny + 1))\n",
    "    F[:,0] = np.linspace(0, -nx * gap, nx + 1)\n",
    "    F[0,:] = np.linspace(0, -ny * gap, ny + 1)\n",
    "    \n",
    "    P = np.zeros((nx + 1, ny + 1))\n",
    "    P[:,0] = 3\n",
    "    P[0,:] = 4\n",
    "   \n",
    "    t = np.zeros(3)\n",
    "    for i in range(nx):\n",
    "        for j in range(ny):\n",
    "            if x[i] == y[j]:\n",
    "                t[0] = F[i,j] + match\n",
    "            else:\n",
    "                t[0] = F[i,j] - mismatch\n",
    "            t[1] = F[i,j+1] - gap\n",
    "            t[2] = F[i+1,j] - gap\n",
    "            tmax = np.max(t)\n",
    "            F[i+1,j+1] = tmax\n",
    "            if t[0] == tmax:\n",
    "                P[i+1,j+1] += 2\n",
    "            if t[1] == tmax:\n",
    "                P[i+1,j+1] += 3\n",
    "            if t[2] == tmax:\n",
    "                P[i+1,j+1] += 4\n",
    "    \n",
    "    i = nx\n",
    "    j = ny\n",
    "    rx = []\n",
    "    ry = []\n",
    "    while i > 0 or j > 0:\n",
    "        if P[i,j] in [2, 5, 6, 9]:\n",
    "            rx.append(x[i-1])\n",
    "            ry.append(y[j-1])\n",
    "            i -= 1\n",
    "            j -= 1\n",
    "        elif P[i,j] in [3, 5, 7, 9]:\n",
    "            rx.append(x[i-1])\n",
    "            ry.append('-')\n",
    "            i -= 1\n",
    "        elif P[i,j] in [4, 6, 7, 9]:\n",
    "            rx.append('-')\n",
    "            ry.append(y[j-1])\n",
    "            j -= 1\n",
    "    \n",
    "    rx = ''.join(rx)[::-1]\n",
    "    ry = ''.join(ry)[::-1]\n",
    "    return '\\n'.join([rx, ry])\n",
    "\n",
    "x = \"GATTACA\"\n",
    "y = \"GCATGCU\"\n",
    "print(nw(x,y))\n",
    "# G-ATTACA\n",
    "# GCA-TGCU"
   ]
  },
  {
   "cell_type": "code",
   "execution_count": 131,
   "id": "f17695b7",
   "metadata": {},
   "outputs": [],
   "source": [
    "import itertools\n",
    "import numpy as np\n",
    "\n",
    "def matrix(a, b, match_score=3, gap_cost=2):\n",
    "    H = np.zeros((len(a) + 1, len(b) + 1), np.int)\n",
    "\n",
    "    for i, j in itertools.product(range(1, H.shape[0]), range(1, H.shape[1])):\n",
    "        match = H[i - 1, j - 1] + (match_score if a[i - 1] == b[j - 1] else - match_score)\n",
    "        delete = H[i - 1, j] - gap_cost\n",
    "        insert = H[i, j - 1] - gap_cost\n",
    "        H[i, j] = max(match, delete, insert, 0)\n",
    "    return H"
   ]
  },
  {
   "cell_type": "code",
   "execution_count": 132,
   "id": "00805145",
   "metadata": {},
   "outputs": [],
   "source": [
    "def traceback(H, b, b_='', old_i=0):\n",
    "    # flip H to get index of **last** occurrence of H.max() with np.argmax()\n",
    "    H_flip = np.flip(np.flip(H, 0), 1)\n",
    "    i_, j_ = np.unravel_index(H_flip.argmax(), H_flip.shape)\n",
    "    i, j = np.subtract(H.shape, (i_ + 1, j_ + 1))  # (i, j) are **last** indexes of H.max()\n",
    "    if H[i, j] == 0:\n",
    "        return b_, j\n",
    "    b_ = b[j - 1] + '-' + b_ if old_i - i > 1 else b[j - 1] + b_\n",
    "    return traceback(H[0:i, 0:j], b, b_, i)"
   ]
  },
  {
   "cell_type": "code",
   "execution_count": 133,
   "id": "c3d929c1",
   "metadata": {},
   "outputs": [],
   "source": [
    "def smith_waterman(a, b, match_score=3, gap_cost=2):\n",
    "    a, b = a.upper(), b.upper()\n",
    "    H = matrix(a, b, match_score, gap_cost)\n",
    "    b_, pos = traceback(H, b)\n",
    "    return pos, pos + len(b_)"
   ]
  },
  {
   "cell_type": "code",
   "execution_count": 134,
   "id": "a5fcd938",
   "metadata": {},
   "outputs": [
    {
     "name": "stdout",
     "output_type": "stream",
     "text": [
      "[[ 0  0  0  0  0  0  0  0  0]\n",
      " [ 0  0  3  1  0  0  0  3  3]\n",
      " [ 0  0  3  1  0  0  0  3  6]\n",
      " [ 0  3  1  6  4  2  0  1  4]\n",
      " [ 0  3  1  4  9  7  5  3  2]\n",
      " [ 0  1  6  4  7  6  4  8  6]\n",
      " [ 0  0  4  3  5 10  8  6  5]\n",
      " [ 0  0  2  1  3  8 13 11  9]\n",
      " [ 0  3  1  5  4  6 11 10  8]\n",
      " [ 0  1  0  3  2  7  9  8  7]]\n",
      "('gtt-ac', 1)\n",
      "GTTGAC\n"
     ]
    },
    {
     "name": "stderr",
     "output_type": "stream",
     "text": [
      "C:\\Users\\Mariana\\AppData\\Local\\Temp\\ipykernel_26352\\2084632750.py:5: DeprecationWarning: `np.int` is a deprecated alias for the builtin `int`. To silence this warning, use `int` by itself. Doing this will not modify any behavior and is safe. When replacing `np.int`, you may wish to use e.g. `np.int64` or `np.int32` to specify the precision. If you wish to review your current use, check the release note link for additional information.\n",
      "Deprecated in NumPy 1.20; for more details and guidance: https://numpy.org/devdocs/release/1.20.0-notes.html#deprecations\n",
      "  H = np.zeros((len(a) + 1, len(b) + 1), np.int)\n"
     ]
    }
   ],
   "source": [
    "print(matrix('GGTTGACTA', 'TGTTACGG'))\n",
    "\n",
    "a, b = 'ggttgacta', 'tgttacgg'\n",
    "H = matrix(a, b)\n",
    "print(traceback(H, b)) \n",
    "\n",
    "a, b = 'GGTTGACTA', 'TGTTACGG'\n",
    "start, end = smith_waterman(a, b)\n",
    "print(a[start:end])     "
   ]
  }
 ],
 "metadata": {
  "kernelspec": {
   "display_name": "Python 3 (ipykernel)",
   "language": "python",
   "name": "python3"
  },
  "language_info": {
   "codemirror_mode": {
    "name": "ipython",
    "version": 3
   },
   "file_extension": ".py",
   "mimetype": "text/x-python",
   "name": "python",
   "nbconvert_exporter": "python",
   "pygments_lexer": "ipython3",
   "version": "3.9.12"
  }
 },
 "nbformat": 4,
 "nbformat_minor": 5
}
