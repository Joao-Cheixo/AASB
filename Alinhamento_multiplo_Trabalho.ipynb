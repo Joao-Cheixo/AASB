{
 "cells": [
  {
   "cell_type": "markdown",
   "id": "7e5c1ac2",
   "metadata": {},
   "source": [
    "__AASB Alinhamento Múltiplo__"
   ]
  },
  {
   "cell_type": "markdown",
   "id": "b880997d",
   "metadata": {},
   "source": [
    "Alinhamento Múltiplo"
   ]
  },
  {
   "cell_type": "code",
   "execution_count": 1,
   "id": "214fa92e",
   "metadata": {},
   "outputs": [],
   "source": [
    "Calbicans = \"AGTTTAAAAATAGCCTGATATATCAATAGGATAGGATAGGTTAGGATGGGATGGGAAGGGAGGGGGAGGTAATGAGTTGAAGGAAGAAGTAAATACAAAATAAGGAACTTAAAAAAATTGGGTTGAAACTGTGAATAAATGGTAATTTCGATAAGAATGAATCAAATCCAAATAATAACTATTATTGTAGAATAAAGATATATATCTCTTTTTTAGTTATAAACCTTTCTTATCAATTAAAGAAAGGGGGAACTAAACAGAAAAATGGGGGAAAGATTAATAAATTGTGGGAATCAATCAAATCAGCTGAAAGAAGAAGAAGAAGAAGAAGAAAGTCCTGCCCTTCCACCCCTCCCCCCGCGCCCTCGTATTACATAATCAACATTAAACGTTATTATCATCAGCATTGCCTTATTTGGAAATCTAGCACGTGATATTACATAAACACAACACAGAATTGGCTTCTGCACACGACCTTACTTAACACTTGAATCAAAAAAAAAAAAAGTCACAACAACAATATTGAAAAGTTCAATCCAACCTATACACCAAGACCAACTTAACCCAACATTCCTTAATTATGGCAGATAGATTAACTCAATTACAAATTTGTTTAGACCAGCTAATTCAACAATTCAATTCAACGATAAATTATGTCAATACCAGTGCCGAACCCAGTCTATTAGATGACGATGATGTCAACTCCTATTCCAATATGGCAGCTAATGCCCCATTGCCACAATCCCAACAACAACGGCAACAACAAAAGAAACAACAGGAACCACAGCAAGAAATAGAACAACCACAACAACAAAGTAACCCTGAATCAAAGAGTATTTCTCCGCCAAAAGAAAAAGTGAGTTTTGATAATGTAATCAATGAGTTATGCACAGATTTAATTTTGAAAAGTCGACAAATCAAAATGTTAATTGATTCATTACCTGGTATAGGAGTTACACCCAATGAACAAATGAATCTAATCAATGAATTAAGTGATAAATTGCAAGCTATAGAAGAAGAAAGAATTCAAAAAATCAAAGAAAAAGATAATCTATTAAATCTATTAGAAAGTATGATTAAAGAGGTAGTTAATGGTATAACCGAAACAAGAATATGATAAAAAAAGAAATACTTTCAGCTTCTATTGTTCTCCCCCCCCCTCTATTTAACCTGTATATGTCATACAATCAATGTCCCAATTTGGAAACCATTTATGAGAATTACATTGATCTAATGTCCATGGCAATCCATATGTGATTGGTATAAATTCATAAAAGCAGTATATTGCACTGACAAATATTGTTGCAGTTATTATACCACCAATAATTTTGTTTTTAGCGACACGATAATTCAAATATTGACTTAATAATAATATTCCAAAATTTAATGCCAGTAAATAATGATGTAAATATAAGTTTCTTGACATGAGACAATAAGGAATATAATTAATAAACCATCCCACCAAATATGGCCAGGAATTGTTGTAAAAGTTGGCATATGGTGATGATTTGGATGATGATGGAGGAGATGCATAAGGGTTTAACTTTATAAACGAATAAATGGCACATTTGAATATAGCTATTAAACCCACAAAAAATACCAGATAATAAATGGCAACATTTCCTAAATAATAAAATAGACTTGATTCTTCATCGATTGATTTCAAATTGTA\""
   ]
  },
  {
   "cell_type": "code",
   "execution_count": 14,
   "id": "d5af2b31",
   "metadata": {},
   "outputs": [],
   "source": [
    "Ecoli = \"ACTCCATACGGTTGTTGGTGGTGCGGGTGTAGCCAGCGCTAAAGGTTTTCTCGCGTCCGCGATAGCGTAAAATAGCGCCGTAACCCCCAGGTCCTGGATTGCCCAGACACGAACCATCGGTGAAAATTTCTACCTGTTTAAGCATCTCTGGTAGACTTCCTGTAATTGAATCGAACTGTAAAACGACAAGTCTGACATAAATGACCGCTATGAGCACTGCAATTACACGCCAGATCGTTCTCGATACCGAAACCACCGGTATGAACCAGATTGGTGCGCACTATGAAGGCCACAAGATCATTGAGATTGGTGCCGTTGAAGTGGTGAACCGTCGCCTGACGGGCAATAACTTCCATGTTTATCTCAAACCCGATCGGCTGGTGGATCCGGAAGCCTTTGGCGTACATGGTATTGCCGATGAATTTTTGCTCGATAAGCCCACGTTTGCCGAAGTAGCCGATGAGTTCATGGACTATATTCGCGGCGCGGAGTTGGTGATCCATAACGCAGCGTTCGATATCGGCTTTATGGACTACGAGTTTTCGTTGCTTAAGCGCGATATTCCGAAGACCAATACTTTCTGTAAGGTCACCGATAGCCTTGCGGTGGCGAGGAAAATGTTTCCCGGTAAGCGCAACAGCCTCGATGCGTTATGTGCTCGCTACGAAATAGATAACAGTAAACGAACGCTGCACGGGGCATTACTCGATGCCCAGATCCTTGCGGAAGTTTATCTGGCGATGACCGGTGGTCAAACGTCGATGGCTTTTGCGATGGAAGGAGAGACACAACAGCAACAAGGTGAAGCAACAATTCAGCGCATTGTACGTCAGGCAAGTAAGTTACGCGTTGTTTTTGCGACAGATGAAGAGATTGCAGCTCATGAAGCCCGTCTCGATCTGGTGCAGAAGAAAGGCGGAAGTTGCCTCTGGCGAGCATAAATACCTGTGAAAGGCGCTAAAAATAGCGACTTGGGCGATTTTTGCAGCAAACGATTCAAAAGATGAGAAAAACCGTTGACGAAGGTCGAGGCAATCCGTAATATTCGCCTCGTTCCCAACGGAACAC\""
   ]
  },
  {
   "cell_type": "code",
   "execution_count": 21,
   "id": "34ed1e2c",
   "metadata": {},
   "outputs": [],
   "source": [
    "seq1 = \"ATCTCT\"\n",
    "seq2 = \"ATCG\""
   ]
  },
  {
   "cell_type": "code",
   "execution_count": 32,
   "id": "c41cfb82",
   "metadata": {},
   "outputs": [],
   "source": [
    "def createMat(seq1,seq2):\n",
    "    mat=[]\n",
    "    for i in range(len(seq1)):\n",
    "        mat.append([])\n",
    "        for j in range(len(seq2)):\n",
    "            mat[i].append(0)\n",
    "    return mat"
   ]
  },
  {
   "cell_type": "code",
   "execution_count": 33,
   "id": "07e39b23",
   "metadata": {},
   "outputs": [],
   "source": [
    "def dotplot(seq1,seq2): #criar matriz de seq\n",
    "    mat=createMat(seq1,seq2)\n",
    "    for i in range(len(seq1)):\n",
    "        for j in range(len(seq2)):\n",
    "            if seq1[i]==seq2[j]:\n",
    "                mat[i][j]=1\n",
    "            else:\n",
    "                mat[i][j]=0\n",
    "    return mat"
   ]
  },
  {
   "cell_type": "code",
   "execution_count": 34,
   "id": "5cb4a30b",
   "metadata": {},
   "outputs": [
    {
     "data": {
      "text/plain": [
       "[[1, 0, 0, 0],\n",
       " [0, 1, 0, 0],\n",
       " [0, 0, 1, 0],\n",
       " [0, 1, 0, 0],\n",
       " [0, 0, 1, 0],\n",
       " [0, 1, 0, 0]]"
      ]
     },
     "execution_count": 34,
     "metadata": {},
     "output_type": "execute_result"
    }
   ],
   "source": [
    "dotplot(seq1,seq2)"
   ]
  },
  {
   "cell_type": "code",
   "execution_count": 37,
   "id": "2ef9ce43",
   "metadata": {},
   "outputs": [],
   "source": [
    "mat=createMat(seq1,seq2)"
   ]
  },
  {
   "cell_type": "code",
   "execution_count": 35,
   "id": "efc96ea1",
   "metadata": {},
   "outputs": [],
   "source": [
    "def printDotplot(mat,s1,s2):\n",
    "    print(\" \"+s2)\n",
    "    for i in range (len(mat)):\n",
    "        lin=[]\n",
    "        lin.append(s1[i])\n",
    "        for j in range (len(mat[i])):\n",
    "            if mat[i][j]>= 1:\n",
    "                lin.append(\"*\")\n",
    "            else:\n",
    "                lin.append(\" \")\n",
    "        print(\"\".join(lin))"
   ]
  },
  {
   "cell_type": "code",
   "execution_count": 38,
   "id": "c9d083d1",
   "metadata": {},
   "outputs": [
    {
     "name": "stdout",
     "output_type": "stream",
     "text": [
      " ATCG\n",
      "A    \n",
      "T    \n",
      "C    \n",
      "T    \n",
      "C    \n",
      "T    \n"
     ]
    }
   ],
   "source": [
    "printDotplot(mat,seq1,seq2)"
   ]
  },
  {
   "cell_type": "code",
   "execution_count": 40,
   "id": "067b6597",
   "metadata": {},
   "outputs": [],
   "source": [
    "import io\n",
    "\n",
    "class Mat:\n",
    "    \"\"\"Implementsção de uama matris\n",
    "    \"\"\"\n",
    "    def __init__(self, rows, cols):\n",
    "        self.mat = [[0 for c in range(cols)]\n",
    "                    for r in range(rows)]\n",
    "    def numRows (self): return len(self.mat)\n",
    "    def numCols (self): return len(self.mat[0])\n",
    "    def __str__(self):\n",
    "        \"Devolve a matriz como uma string\"\n",
    "        return '\\n'.join(' '.join(str(val) for val in row)\n",
    "                         for row in self.mat)\n",
    "    def __repr__(self):\n",
    "        \"Utilizado no repl quando se pede para ver a matriz\"\n",
    "        return str(self)\n",
    "    def __getitem__ (self, n):\n",
    "        \"Interface para a indexação []\"\n",
    "        return self.mat[n]"
   ]
  },
  {
   "cell_type": "code",
   "execution_count": 41,
   "id": "47067cbc",
   "metadata": {},
   "outputs": [],
   "source": [
    "\"\"\"\n",
    "2 chars iguais -> +3\n",
    "diferentes     -> -1\n",
    "\"\"\"\n",
    "\n",
    "def subst(x, y):\n",
    "  return 3 if x == y else -1\n",
    "  \n",
    "class NW:\n",
    "  \"\"\"\n",
    "  Alinhamento global entre duas sequências\n",
    "  \"\"\"\n",
    "  def __init__(self, s1, s2, g = -4):\n",
    "    self.s1 = s1\n",
    "    self.s2 = s2\n",
    "    self.mat = Mat(len(s1) + 1, len(s2) + 1)\n",
    "    self.tr  = Mat(len(s1) + 1, len(s2) + 1)\n",
    "    for L in range(len(s1)):\n",
    "      self.mat[L + 1][0] = g * (L + 1)\n",
    "      self.tr[L + 1][0]  = 'C'\n",
    "    for C in range(len(s2)):\n",
    "      self.mat[0][C + 1] = g * (C + 1)\n",
    "      self.tr[0][C + 1]  = 'E'\n",
    "    for L, x1 in enumerate(s1):\n",
    "      for C, x2 in enumerate(s2):\n",
    "        possiveis = [\n",
    "            self.mat[L  ][C    ] + subst(x1, x2),   # Diagonal\n",
    "            self.mat[L+1][C    ] + g,               # Esquerda\n",
    "            self.mat[L  ][C + 1] + g,               # Cima\n",
    "        ]\n",
    "        dirs = \"DEC\"\n",
    "        self.mat[L + 1][C + 1] = max(possiveis)\n",
    "        self.tr[L + 1][C + 1] = dirs[possiveis.index(self.mat[L + 1][C + 1])]\n",
    "\n",
    "  def rebuild(self):\n",
    "    L = len(self.s1)\n",
    "    C = len(self.s2)\n",
    "    S1 = \"\"\n",
    "    S2 = \"\"\n",
    "    \n",
    "    dirs = {\n",
    "        'D' : (-1, -1),\n",
    "        'E' : ( 0, -1),\n",
    "        'C' : (-1,  0)\n",
    "    }\n",
    "\n",
    "    while L > 0 or C > 0:\n",
    "      DL, DC = dirs[self.tr[L][C]]\n",
    "\n",
    "      if self.tr[L][C] == \"D\":\n",
    "        S1 = self.s1[L - 1] + S1\n",
    "        S2 = self.s2[C - 1] + S2\n",
    "      elif self.tr[L][C] == \"E\":\n",
    "        S1 = '-' + S1\n",
    "        S2 = self.s2[C - 1] + S2\n",
    "      else:\n",
    "        S1 = self.s1[L - 1] + S1\n",
    "        S2 = '-' + S2        \n",
    "\n",
    "      L += DL\n",
    "      C += DC\n",
    "\n",
    "    return S1, S2\n",
    "\n",
    "  def __repr__(self):\n",
    "    cols = \"-\" + self.s2\n",
    "    lins = \"-\" + self.s1\n",
    "    with io.StringIO(\"\") as S:\n",
    "      print(' ', *cols, sep = '   ', file = S)\n",
    "      for L, linha in zip(lins, self.mat):\n",
    "        print(L, *[f'{x:3d}' for x in linha], file = S)\n",
    "\n",
    "      print(file = S)\n",
    "\n",
    "      print(' ', *cols, file = S)\n",
    "      for L, linha in zip(lins, self.tr):\n",
    "        print(L, *linha, file = S)\n",
    "\n",
    "      return S.getvalue()"
   ]
  },
  {
   "cell_type": "code",
   "execution_count": 42,
   "id": "28fd50a1",
   "metadata": {},
   "outputs": [],
   "source": [
    "class SW(NW):\n",
    "  \"\"\"\n",
    "  Alinhamento local entre duas sequências\n",
    "  \"\"\"\n",
    "  def __init__(self, s1, s2, g = -4):\n",
    "      self.s1 = s1\n",
    "      self.s2 = s2\n",
    "      self.mat = Mat(len(s1) + 1, len(s2) + 1)\n",
    "\n",
    "      for L, x1 in enumerate(s1):\n",
    "        for C, x2 in enumerate(s2):\n",
    "          self.mat[L + 1][C + 1] = max(\n",
    "              self.mat[L  ][C    ] + subst(x1, x2),\n",
    "              self.mat[L+1][C    ] + g,\n",
    "              self.mat[L  ][C + 1] + g,\n",
    "              0\n",
    "          )"
   ]
  },
  {
   "cell_type": "code",
   "execution_count": 43,
   "id": "38d92f82",
   "metadata": {},
   "outputs": [],
   "source": [
    "def best(*cars):\n",
    "  return max(cars, key = lambda x : cars.count(x))\n",
    "\n",
    "def consensus(*seqs):\n",
    "  return ''.join([best(*s) for s in zip(*seqs)])\n"
   ]
  }
 ],
 "metadata": {
  "kernelspec": {
   "display_name": "Python 3 (ipykernel)",
   "language": "python",
   "name": "python3"
  },
  "language_info": {
   "codemirror_mode": {
    "name": "ipython",
    "version": 3
   },
   "file_extension": ".py",
   "mimetype": "text/x-python",
   "name": "python",
   "nbconvert_exporter": "python",
   "pygments_lexer": "ipython3",
   "version": "3.9.12"
  }
 },
 "nbformat": 4,
 "nbformat_minor": 5
}
