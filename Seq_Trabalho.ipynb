{
 "cells": [
  {
   "cell_type": "markdown",
   "id": "1b38d17c",
   "metadata": {},
   "source": [
    "__AASB Trabalho_Sequências__"
   ]
  },
  {
   "cell_type": "markdown",
   "id": "2a3c4aab",
   "metadata": {},
   "source": [
    "Implementação dos algoritmos de manipulação de sequências: transcrição, tradução, ORFs, extração de todas as potenciais proteínas"
   ]
  },
  {
   "cell_type": "code",
   "execution_count": 1,
   "id": "6bad1ef1",
   "metadata": {},
   "outputs": [
    {
     "data": {
      "text/plain": [
       "'ACTCCATACGGTTGTTGGTGGTGCGGGTGTAGCCAGCGCTAAAGGTTTTCTCGCGTCCGCGATAGCGTAAAATAGCGCCGTAACCCCCAGGTCCTGGATTGCCCAGACACGAACCATCGGTGAAAATTTCTACCTGTTTAAGCATCTCTGGTAGACTTCCTGTAATTGAATCGAACTGTAAAACGACAAGTCTGACATAAATGACCGCTATGAGCACTGCAATTACACGCCAGATCGTTCTCGATACCGAAACCACCGGTATGAACCAGATTGGTGCGCACTATGAAGGCCACAAGATCATTGAGATTGGTGCCGTTGAAGTGGTGAACCGTCGCCTGACGGGCAATAACTTCCATGTTTATCTCAAACCCGATCGGCTGGTGGATCCGGAAGCCTTTGGCGTACATGGTATTGCCGATGAATTTTTGCTCGATAAGCCCACGTTTGCCGAAGTAGCCGATGAGTTCATGGACTATATTCGCGGCGCGGAGTTGGTGATCCATAACGCAGCGTTCGATATCGGCTTTATGGACTACGAGTTTTCGTTGCTTAAGCGCGATATTCCGAAGACCAATACTTTCTGTAAGGTCACCGATAGCCTTGCGGTGGCGAGGAAAATGTTTCCCGGTAAGCGCAACAGCCTCGATGCGTTATGTGCTCGCTACGAAATAGATAACAGTAAACGAACGCTGCACGGGGCATTACTCGATGCCCAGATCCTTGCGGAAGTTTATCTGGCGATGACCGGTGGTCAAACGTCGATGGCTTTTGCGATGGAAGGAGAGACACAACAGCAACAAGGTGAAGCAACAATTCAGCGCATTGTACGTCAGGCAAGTAAGTTACGCGTTGTTTTTGCGACAGATGAAGAGATTGCAGCTCATGAAGCCCGTCTCGATCTGGTGCAGAAGAAAGGCGGAAGTTGCCTCTGGCGAGCATAAATACCTGTGAAAGGCGCTAAAAATAGCGACTTGGGCGATTTTTGCAGCAAACGATTCAAAAGATGAGAAAAACCGTTGACGAAGGTCGAGGCAATCCGTAATATTCGCCTCGTTCCCAACGGAACAC'"
      ]
     },
     "execution_count": 1,
     "metadata": {},
     "output_type": "execute_result"
    }
   ],
   "source": [
    "seq = \"ACTCCATACGGTTGTTGGTGGTGCGGGTGTAGCCAGCGCTAAAGGTTTTCTCGCGTCCGCGATAGCGTAAAATAGCGCCGTAACCCCCAGGTCCTGGATTGCCCAGACACGAACCATCGGTGAAAATTTCTACCTGTTTAAGCATCTCTGGTAGACTTCCTGTAATTGAATCGAACTGTAAAACGACAAGTCTGACATAAATGACCGCTATGAGCACTGCAATTACACGCCAGATCGTTCTCGATACCGAAACCACCGGTATGAACCAGATTGGTGCGCACTATGAAGGCCACAAGATCATTGAGATTGGTGCCGTTGAAGTGGTGAACCGTCGCCTGACGGGCAATAACTTCCATGTTTATCTCAAACCCGATCGGCTGGTGGATCCGGAAGCCTTTGGCGTACATGGTATTGCCGATGAATTTTTGCTCGATAAGCCCACGTTTGCCGAAGTAGCCGATGAGTTCATGGACTATATTCGCGGCGCGGAGTTGGTGATCCATAACGCAGCGTTCGATATCGGCTTTATGGACTACGAGTTTTCGTTGCTTAAGCGCGATATTCCGAAGACCAATACTTTCTGTAAGGTCACCGATAGCCTTGCGGTGGCGAGGAAAATGTTTCCCGGTAAGCGCAACAGCCTCGATGCGTTATGTGCTCGCTACGAAATAGATAACAGTAAACGAACGCTGCACGGGGCATTACTCGATGCCCAGATCCTTGCGGAAGTTTATCTGGCGATGACCGGTGGTCAAACGTCGATGGCTTTTGCGATGGAAGGAGAGACACAACAGCAACAAGGTGAAGCAACAATTCAGCGCATTGTACGTCAGGCAAGTAAGTTACGCGTTGTTTTTGCGACAGATGAAGAGATTGCAGCTCATGAAGCCCGTCTCGATCTGGTGCAGAAGAAAGGCGGAAGTTGCCTCTGGCGAGCATAAATACCTGTGAAAGGCGCTAAAAATAGCGACTTGGGCGATTTTTGCAGCAAACGATTCAAAAGATGAGAAAAACCGTTGACGAAGGTCGAGGCAATCCGTAATATTCGCCTCGTTCCCAACGGAACAC\"\n",
    "seq"
   ]
  },
  {
   "cell_type": "code",
   "execution_count": 2,
   "id": "7477c2c7",
   "metadata": {},
   "outputs": [],
   "source": [
    "import re"
   ]
  },
  {
   "cell_type": "code",
   "execution_count": 3,
   "id": "2c1f8eaf",
   "metadata": {},
   "outputs": [],
   "source": [
    "def tipo_seq(seq):\n",
    "    seq = seq.upper()\n",
    "    if sum(seq.count(x) for x in (\"ACGT\")) == len(seq):\n",
    "        print(\"DNA\")\n",
    "    elif sum(seq.count(x) for x in (\"ACGU\")) == len(seq):\n",
    "        print(\"RNA\")\n",
    "    else:\n",
    "        print(\"AMINO\")"
   ]
  },
  {
   "cell_type": "code",
   "execution_count": 15,
   "id": "e5e645e3",
   "metadata": {},
   "outputs": [
    {
     "name": "stdout",
     "output_type": "stream",
     "text": [
      "DNA\n"
     ]
    }
   ],
   "source": [
    "tipo_seq(seq)"
   ]
  },
  {
   "cell_type": "code",
   "execution_count": 4,
   "id": "25e8b6c0",
   "metadata": {},
   "outputs": [],
   "source": [
    "def validar(seq):\n",
    "    seq = seq.upper()\n",
    "    if sum(seq.count(x) for x in \"ACGT\") == len(seq):\n",
    "        return True\n",
    "    elif sum(seq.count(x) for x in \"ACGU\") == len(seq):\n",
    "        return True\n",
    "    elif sum(seq.count(x) for x in \"ACDEFGHIKLMNPQRSTVWY\") == len(seq):\n",
    "        return True\n",
    "    else:\n",
    "        return False"
   ]
  },
  {
   "cell_type": "code",
   "execution_count": 16,
   "id": "d10478a1",
   "metadata": {},
   "outputs": [
    {
     "data": {
      "text/plain": [
       "True"
      ]
     },
     "execution_count": 16,
     "metadata": {},
     "output_type": "execute_result"
    }
   ],
   "source": [
    "validar(seq)"
   ]
  },
  {
   "cell_type": "code",
   "execution_count": 18,
   "id": "977037bb",
   "metadata": {},
   "outputs": [],
   "source": [
    "def transcricao(seq):\n",
    "    seq = seq.upper()\n",
    "    seq = seq.replace(\"T\",\"U\")\n",
    "    return(seq)"
   ]
  },
  {
   "cell_type": "code",
   "execution_count": 19,
   "id": "05ed71c6",
   "metadata": {},
   "outputs": [
    {
     "data": {
      "text/plain": [
       "'ACUCCAUACGGUUGUUGGUGGUGCGGGUGUAGCCAGCGCUAAAGGUUUUCUCGCGUCCGCGAUAGCGUAAAAUAGCGCCGUAACCCCCAGGUCCUGGAUUGCCCAGACACGAACCAUCGGUGAAAAUUUCUACCUGUUUAAGCAUCUCUGGUAGACUUCCUGUAAUUGAAUCGAACUGUAAAACGACAAGUCUGACAUAAAUGACCGCUAUGAGCACUGCAAUUACACGCCAGAUCGUUCUCGAUACCGAAACCACCGGUAUGAACCAGAUUGGUGCGCACUAUGAAGGCCACAAGAUCAUUGAGAUUGGUGCCGUUGAAGUGGUGAACCGUCGCCUGACGGGCAAUAACUUCCAUGUUUAUCUCAAACCCGAUCGGCUGGUGGAUCCGGAAGCCUUUGGCGUACAUGGUAUUGCCGAUGAAUUUUUGCUCGAUAAGCCCACGUUUGCCGAAGUAGCCGAUGAGUUCAUGGACUAUAUUCGCGGCGCGGAGUUGGUGAUCCAUAACGCAGCGUUCGAUAUCGGCUUUAUGGACUACGAGUUUUCGUUGCUUAAGCGCGAUAUUCCGAAGACCAAUACUUUCUGUAAGGUCACCGAUAGCCUUGCGGUGGCGAGGAAAAUGUUUCCCGGUAAGCGCAACAGCCUCGAUGCGUUAUGUGCUCGCUACGAAAUAGAUAACAGUAAACGAACGCUGCACGGGGCAUUACUCGAUGCCCAGAUCCUUGCGGAAGUUUAUCUGGCGAUGACCGGUGGUCAAACGUCGAUGGCUUUUGCGAUGGAAGGAGAGACACAACAGCAACAAGGUGAAGCAACAAUUCAGCGCAUUGUACGUCAGGCAAGUAAGUUACGCGUUGUUUUUGCGACAGAUGAAGAGAUUGCAGCUCAUGAAGCCCGUCUCGAUCUGGUGCAGAAGAAAGGCGGAAGUUGCCUCUGGCGAGCAUAAAUACCUGUGAAAGGCGCUAAAAAUAGCGACUUGGGCGAUUUUUGCAGCAAACGAUUCAAAAGAUGAGAAAAACCGUUGACGAAGGUCGAGGCAAUCCGUAAUAUUCGCCUCGUUCCCAACGGAACAC'"
      ]
     },
     "execution_count": 19,
     "metadata": {},
     "output_type": "execute_result"
    }
   ],
   "source": [
    "transcricao(seq)"
   ]
  },
  {
   "cell_type": "code",
   "execution_count": 6,
   "id": "678587f2",
   "metadata": {},
   "outputs": [],
   "source": [
    "def traduzCodaoER (cod):\n",
    "    import re\n",
    "    if re.search(\"GC.\", cod): aa = \"A\"\n",
    "    elif re.search(\"TG[TC]\", cod): aa = \"C\" \n",
    "    elif re.search(\"GA[TC]\", cod): aa = \"D\"\n",
    "    elif re.search(\"GA[AG]\", cod): aa = \"E\"\n",
    "    elif re.search(\"TT[TC]\", cod): aa = \"F\"\n",
    "    elif re.search(\"GG.\", cod): aa = \"G\"\n",
    "    elif re.search(\"CA[TC]\", cod): aa = \"H\"\n",
    "    elif re.search(\"AT[TCA]\", cod): aa = \"I\"\n",
    "    elif re.search(\"AA[AG]\", cod): aa = \"K\"\n",
    "    elif re.search(\"TT[AG]|CT.\", cod): aa = \"L\"\n",
    "    elif re.search(\"ATG\", cod): aa = \"M\"\n",
    "    elif re.search(\"AA[TC]\", cod): aa = \"N\"\n",
    "    elif re.search(\"CC.\", cod): aa = \"P\"\n",
    "    elif re.search(\"CA[AG]\", cod): aa = \"Q\"\n",
    "    elif re.search(\"CG.|AG[AG]\", cod): aa = \"R\"\n",
    "    elif re.search(\"TC.|AG[TC]\", cod): aa = \"S\"\n",
    "    elif re.search(\"AC.\", cod): aa = \"T\"\n",
    "    elif re.search(\"GT.\", cod): aa = \"V\"\n",
    "    elif re.search(\"TGG\", cod): aa = \"W\"\n",
    "    elif re.search(\"TA[TC]\", cod): aa = \"Y\"\n",
    "    elif re.search(\"TA[AG]|TGA\", cod): aa = \"_\";\n",
    "    else: aa = \"\"     \n",
    "    return aa"
   ]
  },
  {
   "cell_type": "code",
   "execution_count": 7,
   "id": "897d238f",
   "metadata": {},
   "outputs": [],
   "source": [
    "def traduzSeq (seqDNA, iniPos= 0):\n",
    "    seqM = seqDNA.upper()\n",
    "    seqAA = \"\"\n",
    "    for pos in range(iniPos,len(seqM)-2,3):\n",
    "        codao = seqM[pos:pos+3]\n",
    "        seqAA += traduzCodaoER(codao)\n",
    "    return seqAA"
   ]
  },
  {
   "cell_type": "code",
   "execution_count": 21,
   "id": "f0044bc2",
   "metadata": {},
   "outputs": [
    {
     "data": {
      "text/plain": [
       "'TPYGCWWCGCSQR_RFSRVRDSVK_RRNPQVLDCPDTNHR_KFLPV_ASLVDFL_LNRTVKRQV_HK_PL_ALQLHARSFSIPKPPV_TRLVRTMKATRSLRLVPLKW_TVA_RAITSMFISNPIGWWIRKPLAYMVLPMNFCSISPRLPK_PMSSWTIFAARSW_SITQRSISALWTTSFRCLSAIFRRPILSVRSPIALRWRGKCFPVSATASMRYVLATK_ITVNERCTGHYSMPRSLRKFIWR_PVVKRRWLLRWKERHNSNKVKQQFSALYVRQVSYALFLRQMKRLQLMKPVSIWCRRKAEVASGEHKYL_KALKIATWAIFAANDSKDEKNR_RRSRQSVIFASFPTEH'"
      ]
     },
     "execution_count": 21,
     "metadata": {},
     "output_type": "execute_result"
    }
   ],
   "source": [
    "traduzSeq(seq)"
   ]
  },
  {
   "cell_type": "code",
   "execution_count": 10,
   "id": "8cea8a1e",
   "metadata": {},
   "outputs": [],
   "source": [
    "def compinverso(dna):\n",
    "    comp = \"\"\n",
    "    for c in dna.upper():\n",
    "        if c == 'A':\n",
    "            comp = \"T\" + comp\n",
    "        elif c == \"T\": \n",
    "            comp = \"A\" + comp\n",
    "        elif c == \"G\": \n",
    "            comp = \"C\" + comp\n",
    "        elif c== \"C\": \n",
    "            comp = \"G\" + comp\n",
    "    return comp"
   ]
  },
  {
   "cell_type": "code",
   "execution_count": 22,
   "id": "fb438420",
   "metadata": {},
   "outputs": [
    {
     "data": {
      "text/plain": [
       "'GTGTTCCGTTGGGAACGAGGCGAATATTACGGATTGCCTCGACCTTCGTCAACGGTTTTTCTCATCTTTTGAATCGTTTGCTGCAAAAATCGCCCAAGTCGCTATTTTTAGCGCCTTTCACAGGTATTTATGCTCGCCAGAGGCAACTTCCGCCTTTCTTCTGCACCAGATCGAGACGGGCTTCATGAGCTGCAATCTCTTCATCTGTCGCAAAAACAACGCGTAACTTACTTGCCTGACGTACAATGCGCTGAATTGTTGCTTCACCTTGTTGCTGTTGTGTCTCTCCTTCCATCGCAAAAGCCATCGACGTTTGACCACCGGTCATCGCCAGATAAACTTCCGCAAGGATCTGGGCATCGAGTAATGCCCCGTGCAGCGTTCGTTTACTGTTATCTATTTCGTAGCGAGCACATAACGCATCGAGGCTGTTGCGCTTACCGGGAAACATTTTCCTCGCCACCGCAAGGCTATCGGTGACCTTACAGAAAGTATTGGTCTTCGGAATATCGCGCTTAAGCAACGAAAACTCGTAGTCCATAAAGCCGATATCGAACGCTGCGTTATGGATCACCAACTCCGCGCCGCGAATATAGTCCATGAACTCATCGGCTACTTCGGCAAACGTGGGCTTATCGAGCAAAAATTCATCGGCAATACCATGTACGCCAAAGGCTTCCGGATCCACCAGCCGATCGGGTTTGAGATAAACATGGAAGTTATTGCCCGTCAGGCGACGGTTCACCACTTCAACGGCACCAATCTCAATGATCTTGTGGCCTTCATAGTGCGCACCAATCTGGTTCATACCGGTGGTTTCGGTATCGAGAACGATCTGGCGTGTAATTGCAGTGCTCATAGCGGTCATTTATGTCAGACTTGTCGTTTTACAGTTCGATTCAATTACAGGAAGTCTACCAGAGATGCTTAAACAGGTAGAAATTTTCACCGATGGTTCGTGTCTGGGCAATCCAGGACCTGGGGGTTACGGCGCTATTTTACGCTATCGCGGACGCGAGAAAACCTTTAGCGCTGGCTACACCCGCACCACCAACAACCGTATGGAGT'"
      ]
     },
     "execution_count": 22,
     "metadata": {},
     "output_type": "execute_result"
    }
   ],
   "source": [
    "compinverso(seq)"
   ]
  },
  {
   "cell_type": "code",
   "execution_count": 23,
   "id": "fdb3979a",
   "metadata": {},
   "outputs": [],
   "source": [
    "def imprimir(seq):\n",
    "    seq = seq.upper()\n",
    "    A = seq.count(\"A\")\n",
    "    C = seq.count(\"C\")\n",
    "    G = seq.count(\"G\")\n",
    "    T = seq.count(\"T\")\n",
    "    return print(\"A sequência apresenta\\n {} A \\n {} C \\n {} G \\n {} T \\n\".format(A,C,G,T))"
   ]
  },
  {
   "cell_type": "code",
   "execution_count": 24,
   "id": "4b8802b1",
   "metadata": {},
   "outputs": [
    {
     "name": "stdout",
     "output_type": "stream",
     "text": [
      "A sequência apresenta\n",
      " 286 A \n",
      " 246 C \n",
      " 281 G \n",
      " 255 T \n",
      "\n"
     ]
    }
   ],
   "source": [
    "imprimir(seq)"
   ]
  },
  {
   "cell_type": "code",
   "execution_count": 25,
   "id": "769f4aa8",
   "metadata": {},
   "outputs": [],
   "source": [
    "def freq(seq):\n",
    "    seq = seq.upper()\n",
    "    fA = (seq.count(\"A\")/len(seq))*100\n",
    "    fC = (seq.count(\"C\")/len(seq))*100\n",
    "    fG = (seq.count(\"G\")/len(seq))*100\n",
    "    fT = (seq.count(\"T\")/len(seq))*100\n",
    "    return print(\"A frequência de A é {:.2f} \\n A frequência de C é {:.2f}\\n A frequência de G é {:.2f}\\n A frequência de T é {:.2f}\\n\".format(fA,fC,fG,fT))"
   ]
  },
  {
   "cell_type": "code",
   "execution_count": 26,
   "id": "7e386deb",
   "metadata": {},
   "outputs": [
    {
     "name": "stdout",
     "output_type": "stream",
     "text": [
      "A frequência de A é 26.78 \n",
      " A frequência de C é 23.03\n",
      " A frequência de G é 26.31\n",
      " A frequência de T é 23.88\n",
      "\n"
     ]
    }
   ],
   "source": [
    "freq(seq)"
   ]
  },
  {
   "cell_type": "code",
   "execution_count": 11,
   "id": "ebeac53c",
   "metadata": {},
   "outputs": [],
   "source": [
    "def orfs (seqDNA):\n",
    "    res = []\n",
    "    res.append(traduzSeq(seqDNA,0))\n",
    "    res.append(traduzSeq(seqDNA,1))\n",
    "    res.append(traduzSeq(seqDNA,2))\n",
    "    compinv = compinverso(seqDNA)\n",
    "    res.append(traduzSeq(compinv,0))\n",
    "    res.append(traduzSeq(compinv,1))\n",
    "    res.append(traduzSeq(compinv,2))    \n",
    "    return res"
   ]
  },
  {
   "cell_type": "code",
   "execution_count": 12,
   "id": "53e48f91",
   "metadata": {},
   "outputs": [
    {
     "data": {
      "text/plain": [
       "['TPYGCWWCGCSQR_RFSRVRDSVK_RRNPQVLDCPDTNHR_KFLPV_ASLVDFL_LNRTVKRQV_HK_PL_ALQLHARSFSIPKPPV_TRLVRTMKATRSLRLVPLKW_TVA_RAITSMFISNPIGWWIRKPLAYMVLPMNFCSISPRLPK_PMSSWTIFAARSW_SITQRSISALWTTSFRCLSAIFRRPILSVRSPIALRWRGKCFPVSATASMRYVLATK_ITVNERCTGHYSMPRSLRKFIWR_PVVKRRWLLRWKERHNSNKVKQQFSALYVRQVSYALFLRQMKRLQLMKPVSIWCRRKAEVASGEHKYL_KALKIATWAIFAANDSKDEKNR_RRSRQSVIFASFPTEH',\n",
       " 'LHTVVGGAGVASAKGFLASAIA_NSAVTPRSWIAQTRTIGENFYLFKHLW_TSCN_IEL_NDKSDINDRYEHCNYTPDRSRYRNHRYEPDWCAL_RPQDH_DWCR_SGEPSPDGQ_LPCLSQTRSAGGSGSLWRTWYCR_IFAR_AHVCRSSR_VHGLYSRRGVGDP_RSVRYRLYGLRVFVA_ARYSEDQYFL_GHR_PCGGEENVSR_AQQPRCVMCSLRNR_Q_TNAARGITRCPDPCGSLSGDDRWSNVDGFCDGRRDTTATR_SNNSAHCTSGK_VTRCFCDR_RDCSS_SPSRSGAEERRKLPLASINTCERR_K_RLGRFLQQTIQKMRKTVDEGRGNP_YSPRSQRN',\n",
       " 'SIRLLVVRV_PALKVFSRPR_RKIAP_PPGPGLPRHEPSVKISTCLSISGRLPVIESNCKTTSLT_MTAMSTAITRQIVLDTETTGMNQIGAHYEGHKIIEIGAVEVVNRRLTGNNFHVYLKPDRLVDPEAFGVHGIADEFLLDKPTFAEVADEFMDYIRGAELVIHNAAFDIGFMDYEFSLLKRDIPKTNTFCKVTDSLAVARKMFPGKRNSLDALCARYEIDNSKRTLHGALLDAQILAEVYLAMTGGQTSMAFAMEGETQQQQGEATIQRIVRQASKLRVVFATDEEIAAHEARLDLVQKKGGSCLWRA_IPVKGAKNSDLGDFCSKRFKR_EKPLTKVEAIRNIRLVPNGT',\n",
       " 'VFRWERGEYYGLPRPSSTVFLIF_IVCCKNRPSRYF_RLSQVFMLARGNFRLSSAPDRDGLHELQSLHLSQKQRVTYLPDVQCAELLLHLVAVVSLLPSQKPSTFDHRSSPDKLPQGSGHRVMPRAAFVYCYLFRSEHITHRGCCAYRETFSSPPQGYR_PYRKYWSSEYRA_ATKTRSP_SRYRTLRYGSPTPRREYSP_THRLLRQTWAYRAKIHRQYHVRQRLPDPPADRV_DKHGSYCPSGDGSPLQRHQSQ_SCGLHSAHQSGSYRWFRYRERSGV_LQCS_RSFMSDLSFYSSIQLQEVYQRCLNR_KFSPMVRVWAIQDLGVTALFYAIADARKPLALATPAPPTTVWS',\n",
       " 'CSVGNEANITDCLDLRQRFFSSFESFAAKIAQVAIFSAFHRYLCSPEATSAFLLHQIETGFMSCNLFICRKNNA_LTCLTYNALNCCFTLLLLCLSFHRKSHRRLTTGHRQINFRKDLGIE_CPVQRSFTVIYFVAST_RIEAVALTGKHFPRHRKAIGDLTESIGLRNIALKQRKLVVHKADIERCVMDHQLRAANIVHELIGYFGKRGLIEQKFIGNTMYAKGFRIHQPIGFEINMEVIARQATVHHFNGTNLNDLVAFIVRTNLVHTGGFGIENDLACNCSAHSGHLCQTCRFTVRFNYRKSTRDA_TGRNFHRWFVSGQSRTWGLRRYFTLSRTRENL_RWLHPHHQQPYG',\n",
       " 'VPLGTRRILRIASTFVNGFSHLLNRLLQKSPKSLFLAPFTGIYARQRQLPPFFCTRSRRAS_AAISSSVAKTTRNLLA_RTMR_IVASPCCCCVSPSIAKAIDV_PPVIAR_TSARIWASSNAPCSVRLLLSIS_RAHNASRLLRLPGNIFLATARLSVTLQKVLVFGISRLSNENS_SIKPISNAALWITNSAPRI_SMNSSATSANVGLSSKNSSAIPCTPKASGSTSRSGLR_TWKLLPVRRRFTTSTAPISMILWPS_CAPIWFIPVVSVSRTIWRVIAVLIAVIYVRLVVLQFDSITGSLPEMLKQVEIFTDGSCLGNPGPGGYGAILRYRGREKTFSAGYTRTTNNRME']"
      ]
     },
     "execution_count": 12,
     "metadata": {},
     "output_type": "execute_result"
    }
   ],
   "source": [
    "orfs(seq)"
   ]
  },
  {
   "cell_type": "code",
   "execution_count": 13,
   "id": "2f4c7b38",
   "metadata": {},
   "outputs": [],
   "source": [
    "def todasProteinas (seqAA):\n",
    "    seqAA = seqAA.upper() \n",
    "    protsAtuais = []\n",
    "    proteinas = []\n",
    "    for aa in seqAA:\n",
    "        if aa == \"_\":\n",
    "            if protsAtuais:\n",
    "                for p in protsAtuais:\n",
    "                    proteinas.append(p)\n",
    "                protsAtuais = []\n",
    "        else:\n",
    "            if aa == \"M\":\n",
    "                protsAtuais.append(\"\")\n",
    "            for i in range(len(protsAtuais)):\n",
    "                protsAtuais[i] += aa\n",
    "    return proteinas"
   ]
  },
  {
   "cell_type": "code",
   "execution_count": 14,
   "id": "e0aa3409",
   "metadata": {},
   "outputs": [
    {
     "data": {
      "text/plain": [
       "['MKATRSLRLVPLKW',\n",
       " 'MFISNPIGWWIRKPLAYMVLPMNFCSISPRLPK',\n",
       " 'MVLPMNFCSISPRLPK',\n",
       " 'MNFCSISPRLPK',\n",
       " 'MSSWTIFAARSW',\n",
       " 'MRYVLATK',\n",
       " 'MPRSLRKFIWR',\n",
       " 'MKRLQLMKPVSIWCRRKAEVASGEHKYL',\n",
       " 'MKPVSIWCRRKAEVASGEHKYL']"
      ]
     },
     "execution_count": 14,
     "metadata": {},
     "output_type": "execute_result"
    }
   ],
   "source": [
    "todasProteinas(traduzSeq(seq))"
   ]
  }
 ],
 "metadata": {
  "kernelspec": {
   "display_name": "Python 3 (ipykernel)",
   "language": "python",
   "name": "python3"
  },
  "language_info": {
   "codemirror_mode": {
    "name": "ipython",
    "version": 3
   },
   "file_extension": ".py",
   "mimetype": "text/x-python",
   "name": "python",
   "nbconvert_exporter": "python",
   "pygments_lexer": "ipython3",
   "version": "3.9.12"
  }
 },
 "nbformat": 4,
 "nbformat_minor": 5
}
