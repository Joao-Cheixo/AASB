{
 "cells": [
  {
   "cell_type": "markdown",
   "id": "d73e3bc6",
   "metadata": {},
   "source": [
    "__AASB Motifs PROSITE e enzimas de restrição__"
   ]
  },
  {
   "cell_type": "code",
   "execution_count": 15,
   "id": "af6a0526",
   "metadata": {},
   "outputs": [],
   "source": [
    "import re\n",
    "from math import log\n",
    "from threading import local\n",
    "from typing import List, Type\n",
    "from unittest import result"
   ]
  },
  {
   "cell_type": "code",
   "execution_count": 33,
   "id": "38d604a7",
   "metadata": {},
   "outputs": [
    {
     "name": "stdout",
     "output_type": "stream",
     "text": [
      "[2, 9, 42]\n"
     ]
    }
   ],
   "source": [
    "def prosite(s, t):\n",
    "    occurrences = []\n",
    "    for i in range(len(s)-len(t)+1): # loop over alignment\n",
    "        match = True\n",
    "        for j in range(len(t)): # loop over characters\n",
    "            if s[i+j] != t[j]:  # compare characters\n",
    "                match = False   # mismatch\n",
    "                break\n",
    "        if match:   # allchars matched\n",
    "            occurrences.append(i)\n",
    "\n",
    "    print(occurrences) \n",
    "\n",
    "t = 'CAACTTCCA'\n",
    "\n",
    "s = 'GACAACTTCCAACTTCCAACTTCCCGTCCCAACTTCACTTCTCAACTTCCAACTTCCG'\n",
    "prosite(s, t)"
   ]
  },
  {
   "cell_type": "code",
   "execution_count": 62,
   "id": "b1c97972",
   "metadata": {},
   "outputs": [],
   "source": [
    "def iubToRE (iub):\n",
    "    dic = {\"A\":\"A\", \"C\":\"C\", \"G\":\"G\", \"T\":\"T\",\n",
    "\"R\":\"[GA]\", \"Y\":\"[CT]\", \"M\":\"[AC]\", \"K\":\"[GT]\", \"S\":\"[GC]\", \"W\": \"[AT]\",\n",
    "\"B\":\"[CGT]\", \"D\":\"[AGT]\", \"H\":\"[ACT]\", \"V\":\"[ACG]\", \"N\":\"[ACGT]\"}\n",
    "    site = iub.replace(\"^\",\"\")\n",
    "    regexp = \"\"\n",
    "    for c in site:\n",
    "        regexp += dic[c]\n",
    "    return regexp"
   ]
  },
  {
   "cell_type": "code",
   "execution_count": 63,
   "id": "788daeb2",
   "metadata": {},
   "outputs": [],
   "source": [
    "def cutPositions (enzyme, sequence): #determina as posições onde uma enzima de restrição “corta” a sequência \n",
    "    from re import finditer\n",
    "    cutpos = enzyme.find(\"^\")\n",
    "    regexp = iubToRE(enzyme)\n",
    "    matches = finditer(regexp, sequence)\n",
    "    locs = [ ]\n",
    "    for m in matches:\n",
    "        locs.append(m.start() + cutpos)\n",
    "    return locs #retorna uma lista de índices"
   ]
  },
  {
   "cell_type": "code",
   "execution_count": 64,
   "id": "2d907788",
   "metadata": {},
   "outputs": [],
   "source": [
    "def cutSubsequences (locs, sequence): #subsequências resultantes do corte da sequência seq, usando os índices na lista locs\n",
    "    res = []\n",
    "    positions = locs\n",
    "    positions.insert(0,0)\n",
    "    positions.append(len(sequence))\n",
    "    for i in range(len(positions)-1):\n",
    "        res.append(sequence[positions[i]:positions[i+1]])\n",
    "    return res"
   ]
  },
  {
   "cell_type": "code",
   "execution_count": 66,
   "id": "b17a8676",
   "metadata": {},
   "outputs": [
    {
     "name": "stdout",
     "output_type": "stream",
     "text": [
      "[7, 19]\n",
      "['GTAGAAG', 'ATTCTGAGATCG', 'ATTC']\n"
     ]
    }
   ],
   "source": [
    "pos=cutPositions('G^ATTC','GTAGAAGATTCTGAGATCGATTC'); print(pos)\n",
    "print(cutSubsequences(pos,'GTAGAAGATTCTGAGATCGATTC'))"
   ]
  },
  {
   "cell_type": "code",
   "execution_count": null,
   "id": "d85d24f6",
   "metadata": {},
   "outputs": [],
   "source": []
  }
 ],
 "metadata": {
  "kernelspec": {
   "display_name": "Python 3 (ipykernel)",
   "language": "python",
   "name": "python3"
  },
  "language_info": {
   "codemirror_mode": {
    "name": "ipython",
    "version": 3
   },
   "file_extension": ".py",
   "mimetype": "text/x-python",
   "name": "python",
   "nbconvert_exporter": "python",
   "pygments_lexer": "ipython3",
   "version": "3.9.12"
  }
 },
 "nbformat": 4,
 "nbformat_minor": 5
}
