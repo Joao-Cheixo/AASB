{
 "cells": [
  {
   "cell_type": "markdown",
   "id": "d73e3bc6",
   "metadata": {},
   "source": [
    "__AASB Motifs PROSITE e enzimas de restrição__"
   ]
  },
  {
   "cell_type": "code",
   "execution_count": 7,
   "id": "af6a0526",
   "metadata": {},
   "outputs": [],
   "source": [
    "import re\n",
    "from re import finditer\n",
    "from unittest import result"
   ]
  },
  {
   "cell_type": "code",
   "execution_count": 15,
   "id": "38d604a7",
   "metadata": {},
   "outputs": [],
   "source": [
    "def prosite(s, p):\n",
    "    \"\"\"\n",
    "    Input:  s = sequência a procurar\n",
    "    p = padrão a ser procurado na sequência\n",
    "    \n",
    "    Output: lista de posições na sequência onde ocorre o padrão \n",
    "    \"\"\"\n",
    "    ocorrencias = []\n",
    "    for i in range(len(s)-len(p)+1): \n",
    "        match = True\n",
    "        for j in range(len(p)): \n",
    "            if s[i+j] != t[j]:  # comparar caracteres\n",
    "                match = False   # mismatch\n",
    "                break\n",
    "        if match:   \n",
    "            ocorrencias.append(i)\n",
    "    return ocorrencias"
   ]
  },
  {
   "cell_type": "code",
   "execution_count": 17,
   "id": "ced89dd3",
   "metadata": {},
   "outputs": [
    {
     "data": {
      "text/plain": [
       "[2, 9, 42]"
      ]
     },
     "execution_count": 17,
     "metadata": {},
     "output_type": "execute_result"
    }
   ],
   "source": [
    "p = 'CAACTTCCA'\n",
    "\n",
    "s = 'GACAACTTCCAACTTCCAACTTCCCGTCCCAACTTCACTTCTCAACTTCCAACTTCCG'\n",
    "prosite(s, p)"
   ]
  },
  {
   "cell_type": "markdown",
   "id": "b2ef48e3",
   "metadata": {},
   "source": [
    "__Enzimas:__"
   ]
  },
  {
   "cell_type": "code",
   "execution_count": 24,
   "id": "b1c97972",
   "metadata": {},
   "outputs": [],
   "source": [
    "def converter(enz):\n",
    "    \"\"\"\n",
    "    Função que converte a representação da enzima (enz) na expressão regular correspondente\n",
    "    Input: enzima de restrição\n",
    "    Output: expressão regular da enzima\n",
    "    \"\"\"\n",
    "    dic_enz = {\"A\":\"A\", \"C\":\"C\", \"G\":\"G\", \"T\":\"T\",\"R\":\"[GA]\", \"Y\":\"[CT]\", \"M\":\"[AC]\", \"K\":\"[GT]\", \"S\":\"[GC]\", \"W\": \"[AT]\", \"B\":\"[CGT]\", \"D\":\"[AGT]\", \"H\":\"[ACT]\", \"V\":\"[ACG]\", \"N\":\"[ACGT]\"}\n",
    "    corte = enz.replace(\"^\",\"\")\n",
    "    regex = \"\"\n",
    "    for e in corte:\n",
    "        regex += dic_enz[e]\n",
    "    return regex"
   ]
  },
  {
   "cell_type": "code",
   "execution_count": 28,
   "id": "f334b5ef",
   "metadata": {},
   "outputs": [
    {
     "data": {
      "text/plain": [
       "'GA[AC]T[ACG]'"
      ]
     },
     "execution_count": 28,
     "metadata": {},
     "output_type": "execute_result"
    }
   ],
   "source": [
    "converter('G^AMTV')"
   ]
  },
  {
   "cell_type": "code",
   "execution_count": 29,
   "id": "788daeb2",
   "metadata": {},
   "outputs": [],
   "source": [
    "def locais_de_corte (enz, seq):\n",
    "    \"\"\"\n",
    "    Função que determina as posições onde uma enzima de restrição “corta” a sequência\n",
    "    Input: enz = enzima de restrição \n",
    "    seq = sequência\n",
    "    \n",
    "    Output: lista de índices com as posições de corte\n",
    "    \"\"\"\n",
    "    local = enz.find(\"^\")\n",
    "    regex = converter(enz)\n",
    "    matches = finditer(regex, seq)\n",
    "    posicao = [ ]\n",
    "    for p in matches:\n",
    "        posicao.append(p.start() + local)\n",
    "    return posicao "
   ]
  },
  {
   "cell_type": "code",
   "execution_count": 41,
   "id": "823f9272",
   "metadata": {},
   "outputs": [
    {
     "data": {
      "text/plain": [
       "[7, 19]"
      ]
     },
     "execution_count": 41,
     "metadata": {},
     "output_type": "execute_result"
    }
   ],
   "source": [
    "posicao = locais_de_corte('G^ATTC','GTAGAAGATTCTGAGATCGATTC')\n",
    "posicao"
   ]
  },
  {
   "cell_type": "code",
   "execution_count": 37,
   "id": "2d907788",
   "metadata": {},
   "outputs": [],
   "source": [
    "def subsequencias_corte (posicao, seq): \n",
    "    \"\"\"\n",
    "    Input: posicao = posições de corte\n",
    "    seq = sequência\n",
    "    \n",
    "    Output: lista de subsequências resultantes do corte da sequência \n",
    "    \"\"\"\n",
    "    res = []\n",
    "    p = posicao\n",
    "    p.insert(0,0)\n",
    "    p.append(len(seq))\n",
    "    for i in range(len(p)-1):\n",
    "        res.append(seq[p[i]:p[i+1]])\n",
    "    return res"
   ]
  },
  {
   "cell_type": "code",
   "execution_count": 42,
   "id": "b17a8676",
   "metadata": {},
   "outputs": [
    {
     "name": "stdout",
     "output_type": "stream",
     "text": [
      "['GTAGAAG', 'ATTCTGAGATCG', 'ATTC']\n"
     ]
    }
   ],
   "source": [
    "print(subsequencias_corte(posicao,'GTAGAAGATTCTGAGATCGATTC'))"
   ]
  }
 ],
 "metadata": {
  "kernelspec": {
   "display_name": "Python 3 (ipykernel)",
   "language": "python",
   "name": "python3"
  },
  "language_info": {
   "codemirror_mode": {
    "name": "ipython",
    "version": 3
   },
   "file_extension": ".py",
   "mimetype": "text/x-python",
   "name": "python",
   "nbconvert_exporter": "python",
   "pygments_lexer": "ipython3",
   "version": "3.9.12"
  }
 },
 "nbformat": 4,
 "nbformat_minor": 5
}
