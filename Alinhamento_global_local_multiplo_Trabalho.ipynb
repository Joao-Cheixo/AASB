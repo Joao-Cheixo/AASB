{
 "cells": [
  {
   "cell_type": "markdown",
   "id": "7e5c1ac2",
   "metadata": {},
   "source": [
    "__AASB Alinhamento global, local e Múltiplo__"
   ]
  },
  {
   "cell_type": "markdown",
   "id": "b880997d",
   "metadata": {},
   "source": [
    "Algoritmos de alinhamento global e local entre sequências e reconstrução do respetivo alinhamento   \n",
    "Alinhamento Múltiplo"
   ]
  },
  {
   "cell_type": "code",
   "execution_count": 4,
   "id": "a4273a06",
   "metadata": {},
   "outputs": [],
   "source": [
    "from threading import local"
   ]
  },
  {
   "cell_type": "code",
   "execution_count": 5,
   "id": "34ed1e2c",
   "metadata": {},
   "outputs": [],
   "source": [
    "seq1 = \"ATCTCT\"\n",
    "seq2 = \"ATCG\""
   ]
  },
  {
   "cell_type": "code",
   "execution_count": 36,
   "id": "c41cfb82",
   "metadata": {},
   "outputs": [],
   "source": [
    "def criar_matriz(seq1,seq2):\n",
    "    \"\"\"\n",
    "    Inputs:\n",
    "    seq1 = sequência 1 a alinhar\n",
    "    seq2 = sequência 2 a alinhar\n",
    "    \n",
    "    Output: matriz numérica de 0\n",
    "    \"\"\"\n",
    "    mat=[]\n",
    "    for i in range(len(seq1)):\n",
    "        mat.append([])\n",
    "        for j in range(len(seq2)):\n",
    "            mat[i].append(0)\n",
    "    return mat"
   ]
  },
  {
   "cell_type": "code",
   "execution_count": 7,
   "id": "d1ac4cb9",
   "metadata": {},
   "outputs": [
    {
     "data": {
      "text/plain": [
       "[[0, 0, 0, 0],\n",
       " [0, 0, 0, 0],\n",
       " [0, 0, 0, 0],\n",
       " [0, 0, 0, 0],\n",
       " [0, 0, 0, 0],\n",
       " [0, 0, 0, 0]]"
      ]
     },
     "execution_count": 7,
     "metadata": {},
     "output_type": "execute_result"
    }
   ],
   "source": [
    "mat = criar_matriz(seq1,seq2)\n",
    "mat"
   ]
  },
  {
   "cell_type": "code",
   "execution_count": 35,
   "id": "85a9957f",
   "metadata": {},
   "outputs": [],
   "source": [
    "def criar_matriz_seq(seq1,seq2): \n",
    "    \"\"\"\n",
    "    Input:\n",
    "    seq1 = sequência 1 a alinhar\n",
    "    seq2 = sequência 2 a alinhar\n",
    "    \n",
    "    Output: matriz numérica de 0 e 1\n",
    "    \"\"\"\n",
    "    mat=criar_matriz(seq1,seq2)\n",
    "    for i in range(len(seq1)):\n",
    "        for j in range(len(seq2)):\n",
    "            if seq1[i]==seq2[j]:\n",
    "                mat[i][j]=1\n",
    "            else:\n",
    "                mat[i][j]=0\n",
    "    return mat"
   ]
  },
  {
   "cell_type": "code",
   "execution_count": 7,
   "id": "13ac1684",
   "metadata": {},
   "outputs": [
    {
     "data": {
      "text/plain": [
       "[[1, 0, 0, 0],\n",
       " [0, 1, 0, 0],\n",
       " [0, 0, 1, 0],\n",
       " [0, 1, 0, 0],\n",
       " [0, 0, 1, 0],\n",
       " [0, 1, 0, 0]]"
      ]
     },
     "execution_count": 7,
     "metadata": {},
     "output_type": "execute_result"
    }
   ],
   "source": [
    "mat = criar_matriz_seq(seq1,seq2)\n",
    "mat"
   ]
  },
  {
   "cell_type": "code",
   "execution_count": 8,
   "id": "bfd03332",
   "metadata": {},
   "outputs": [],
   "source": [
    "def imprimir_matriz(mat,seq1,seq2):\n",
    "    \"\"\"\n",
    "    Input:\n",
    "    mat = matriz numérica criada a partir função criar_matriz_seq\n",
    "    seq1 = sequência 1 a alinhar\n",
    "    seq2 = sequência 2 a alinhar\n",
    "    \n",
    "    Output: matriz numérica onde um * representam os caracteres iguais (match) de ambas as sequências\n",
    "    \"\"\"\n",
    "    print(\" \"+seq2)\n",
    "    for i in range (len(mat)):\n",
    "        lin=[]\n",
    "        lin.append(seq1[i])\n",
    "        for j in range (len(mat[i])):\n",
    "            if mat[i][j]>= 1:\n",
    "                lin.append(\"*\")\n",
    "            else:\n",
    "                lin.append(\" \")\n",
    "        print(\"\".join(lin))"
   ]
  },
  {
   "cell_type": "code",
   "execution_count": 9,
   "id": "8e44d39e",
   "metadata": {},
   "outputs": [
    {
     "name": "stdout",
     "output_type": "stream",
     "text": [
      " ATCG\n",
      "A*   \n",
      "T *  \n",
      "C  * \n",
      "T *  \n",
      "C  * \n",
      "T *  \n"
     ]
    }
   ],
   "source": [
    "imprimir_matriz(mat,seq1,seq2)"
   ]
  },
  {
   "cell_type": "code",
   "execution_count": 37,
   "id": "d9d839c9",
   "metadata": {},
   "outputs": [],
   "source": [
    "def score(seq1, seq2): \n",
    "    \"\"\"\n",
    "    Inputs:\n",
    "    seq1 = sequência 1 a alinhar\n",
    "    seq2 = sequência 2 a alinhar\n",
    "    \n",
    "    Output: score\n",
    "    \"\"\"\n",
    "    if seq1 == seq2: \n",
    "        return 3 \n",
    "    else: return -1 "
   ]
  },
  {
   "cell_type": "code",
   "execution_count": 38,
   "id": "25a7dc9a",
   "metadata": {},
   "outputs": [],
   "source": [
    "def alin_local(seq1, seq2, g):\n",
    "    \"\"\"\n",
    "    Inputs:\n",
    "    seq1 = sequência 1 a alinhar\n",
    "    seq2 = sequência 2 a alinhar\n",
    "    g = valor do gap\n",
    "    \n",
    "    Output: matriz de alinhamento local Smith-Waterman; matriz com direções \n",
    "    \"\"\"\n",
    "    mat = [[0 for C in range(len(seq2) + 1)] for L in range(len(seq1) + 1)]\n",
    "    drt = [[\" \" for C in range(len(seq2) + 1)] for L in range(len(seq1) + 1)]\n",
    "    for L in range(len(seq1)):\n",
    "        mat[L + 1][0] =mat[L][0] + g\n",
    "        drt[L + 1][0] = \"C\"\n",
    "    for C in range(len(seq2)):\n",
    "        mat[0][C + 1] =mat[0][C] + g\n",
    "        drt[0][C + 1] = \"E\"\n",
    "    if local:\n",
    "        for L in range(len(seq1)):\n",
    "            mat[L + 1][0] = 0\n",
    "            drt[L + 1][0] = \"0\"\n",
    "        for C in range(len(seq2)):\n",
    "            mat[0][C + 1] = 0\n",
    "            drt[0][C + 1] = \"0\"\n",
    "    for L, x1 in enumerate(seq1):\n",
    "        for C, x2 in enumerate(seq2):\n",
    "            valor=[mat[L][C] + score(x1, x2), \n",
    "                    mat[L + 1][C    ] + g, \n",
    "                    mat[L    ][C + 1] + g] \n",
    "\n",
    "            if local: valor.append(0)\n",
    "            direcoes = \"D E C 0\".split()\n",
    "            mat[L + 1][C + 1] = max(valor)\n",
    "            drt[L + 1][C + 1] = direcoes[valor.index(mat[L + 1][C + 1])]\n",
    "            if sorted(valor)[-1] == sorted(valor)[-2]:\n",
    "                if valor[0] == valor[1]: drt[L + 1][C + 1] = \"DE\"\n",
    "                if valor[0] == valor[2]: drt[L + 1][C + 1] = \"DC\"\n",
    "                if valor[1] == valor[2]: drt[L + 1][C + 1] = \"EC\"\n",
    "                if valor[0] == valor[1] and valor[0] == valor[2]: drt[L + 1][C + 1] = \"DCE\"\n",
    "\n",
    "    return mat, drt"
   ]
  },
  {
   "cell_type": "code",
   "execution_count": 27,
   "id": "302e819d",
   "metadata": {},
   "outputs": [
    {
     "data": {
      "text/plain": [
       "([[0, 0, 0, 0, 0],\n",
       "  [0, 3, 2, 1, 0],\n",
       "  [0, 2, 6, 5, 4],\n",
       "  [0, 1, 5, 9, 8],\n",
       "  [0, 0, 4, 8, 8],\n",
       "  [0, 0, 3, 7, 7],\n",
       "  [0, 0, 3, 6, 6]],\n",
       " [[' ', '0', '0', '0', '0'],\n",
       "  ['0', 'D', 'E', 'E', 'DC'],\n",
       "  ['0', 'C', 'D', 'E', 'E'],\n",
       "  ['0', 'C', 'C', 'D', 'E'],\n",
       "  ['0', 'DE', 'DC', 'C', 'D'],\n",
       "  ['0', '0', 'C', 'DC', 'DC'],\n",
       "  ['0', '0', 'D', 'C', 'DC']])"
      ]
     },
     "execution_count": 27,
     "metadata": {},
     "output_type": "execute_result"
    }
   ],
   "source": [
    "alin_local(seq1, seq2, g=-1)"
   ]
  },
  {
   "cell_type": "code",
   "execution_count": 39,
   "id": "788b2cee",
   "metadata": {},
   "outputs": [],
   "source": [
    "def alin_global(seq1, seq2, g):\n",
    "    \"\"\"\n",
    "    Inputs:\n",
    "    seq1 = sequência 1 a alinhar\n",
    "    seq2 = sequência 2 a alinhar\n",
    "    g = valor do gap\n",
    "    \n",
    "    Output: matriz de alinhamento global Needleman-Wunsch; matriz com direções \n",
    "    \"\"\"\n",
    "    mat = [[0 for C in range(len(seq2) + 1)] for L in range(len(seq1) + 1)]\n",
    "    drt = [[\" \" for C in range(len(seq2) + 1)] for L in range(len(seq1) + 1)]\n",
    "    for L in range(len(seq1)):\n",
    "        mat[L + 1][0] =mat[L][0] + g\n",
    "        drt[L + 1][0] = \"C\"\n",
    "    for C in range(len(seq2)):\n",
    "        mat[0][C + 1] =mat[0][C] + g\n",
    "        drt[0][C + 1] = \"E\"\n",
    "    for L, x1 in enumerate(seq1):\n",
    "        for C, x2 in enumerate(seq2):\n",
    "            valor=[mat[L][C] + score(x1, x2), \n",
    "                    mat[L + 1][C    ] + g, \n",
    "                    mat[L    ][C + 1] + g] \n",
    "\n",
    "            direcoes = \"D E C 0\".split()\n",
    "            mat[L + 1][C + 1] = max(valor)\n",
    "            drt[L + 1][C + 1] = direcoes[valor.index(mat[L + 1][C + 1])]\n",
    "            if sorted(valor)[-1] == sorted(valor)[-2]:\n",
    "                if valor[0] == valor[1]: drt[L + 1][C + 1] = \"DE\"\n",
    "                if valor[0] == valor[2]: drt[L + 1][C + 1] = \"DC\"\n",
    "                if valor[1] == valor[2]: drt[L + 1][C + 1] = \"EC\"\n",
    "                if valor[0] == valor[1] and valor[0] == valor[2]: drt[L + 1][C + 1] = \"DCE\"\n",
    "\n",
    "    return mat, drt"
   ]
  },
  {
   "cell_type": "code",
   "execution_count": 32,
   "id": "c6278804",
   "metadata": {},
   "outputs": [
    {
     "data": {
      "text/plain": [
       "([[0, -1, -2, -3, -4],\n",
       "  [-1, 3, 2, 1, 0],\n",
       "  [-2, 2, 6, 5, 4],\n",
       "  [-3, 1, 5, 9, 8],\n",
       "  [-4, 0, 4, 8, 8],\n",
       "  [-5, -1, 3, 7, 7],\n",
       "  [-6, -2, 2, 6, 6]],\n",
       " [[' ', 'E', 'E', 'E', 'E'],\n",
       "  ['C', 'D', 'E', 'E', 'E'],\n",
       "  ['C', 'C', 'D', 'E', 'E'],\n",
       "  ['C', 'C', 'C', 'D', 'E'],\n",
       "  ['C', 'C', 'DC', 'C', 'D'],\n",
       "  ['C', 'C', 'C', 'DC', 'DC'],\n",
       "  ['C', 'C', 'DC', 'C', 'DC']])"
      ]
     },
     "execution_count": 32,
     "metadata": {},
     "output_type": "execute_result"
    }
   ],
   "source": [
    "alin_global(seq1, seq2, g=-1)"
   ]
  },
  {
   "cell_type": "code",
   "execution_count": 127,
   "id": "1fd82d06",
   "metadata": {},
   "outputs": [],
   "source": [
    "seqs = [\"ATGG\", \"ATTT\", \"ATG\"]"
   ]
  },
  {
   "cell_type": "code",
   "execution_count": 149,
   "id": "4754a589",
   "metadata": {},
   "outputs": [],
   "source": [
    "def alinhamento_progressivo(seqs: list, g):\n",
    "    \"\"\"\n",
    "    Inputs:\n",
    "    seqs = lista de sequências a alinhar\n",
    "    g = valor do gap\n",
    "    \n",
    "    Output: matriz de alinhamento múltiplo \n",
    "    \"\"\"\n",
    "    def NW(seq1, seq2):\n",
    "        alinhamento = alin_global(seq1, seq2, g=-1)\n",
    "        S1 = alinhamento[0]\n",
    "        S2 = alinhamento[1]\n",
    "        return S1, S2\n",
    "    \n",
    "    def consenso(*seqs):\n",
    "        return \"\".join(x1 if x1 == x2 else x1 if x2 == \"-\" else x2 for x1, x2 in zip(seq1,seq2))\n",
    "\n",
    "    def alin_mult(seqs):\n",
    "        seq1, seq2, *sequencias = seqs\n",
    "        S1, S2 = NW(seq1, seq2)\n",
    "        res = [S1, S2]\n",
    "        cons = consenso(S1, S2)\n",
    "        for p in sequencias:\n",
    "            S1, S2 = NW(cons, p)\n",
    "            res.append(S2)\n",
    "            cons = consenso(S1, S2)\n",
    "\n",
    "        res = []\n",
    "        for j in seqs:\n",
    "            S1, S2 = NW(cons, j)\n",
    "            res.append(S2)\n",
    "        return res\n",
    "    return alin_mult(seqs)"
   ]
  },
  {
   "cell_type": "code",
   "execution_count": 150,
   "id": "4fe1b54b",
   "metadata": {},
   "outputs": [
    {
     "data": {
      "text/plain": [
       "[[[' ', 'E', 'E', 'E', 'E'],\n",
       "  ['C', 'D', 'E', 'E', 'E'],\n",
       "  ['C', 'C', 'D', 'E', 'E'],\n",
       "  ['C', 'C', 'C', 'D', 'DE'],\n",
       "  ['C', 'C', 'C', 'D', 'D']],\n",
       " [[' ', 'E', 'E', 'E', 'E'],\n",
       "  ['C', 'D', 'E', 'E', 'E'],\n",
       "  ['C', 'C', 'D', 'DE', 'DE'],\n",
       "  ['C', 'C', 'C', 'D', 'DE'],\n",
       "  ['C', 'C', 'C', 'DC', 'D']],\n",
       " [[' ', 'E', 'E', 'E'],\n",
       "  ['C', 'D', 'E', 'E'],\n",
       "  ['C', 'C', 'D', 'E'],\n",
       "  ['C', 'C', 'C', 'D'],\n",
       "  ['C', 'C', 'C', 'D']]]"
      ]
     },
     "execution_count": 150,
     "metadata": {},
     "output_type": "execute_result"
    }
   ],
   "source": [
    "alinhamento_progressivo(seqs, g=-1)"
   ]
  }
 ],
 "metadata": {
  "kernelspec": {
   "display_name": "Python 3 (ipykernel)",
   "language": "python",
   "name": "python3"
  },
  "language_info": {
   "codemirror_mode": {
    "name": "ipython",
    "version": 3
   },
   "file_extension": ".py",
   "mimetype": "text/x-python",
   "name": "python",
   "nbconvert_exporter": "python",
   "pygments_lexer": "ipython3",
   "version": "3.9.12"
  }
 },
 "nbformat": 4,
 "nbformat_minor": 5
}
