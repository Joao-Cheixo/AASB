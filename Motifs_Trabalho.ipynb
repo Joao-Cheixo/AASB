{
 "cells": [
  {
   "cell_type": "markdown",
   "id": "0d36e4fa",
   "metadata": {},
   "source": [
    "__AASB_Motifs__"
   ]
  },
  {
   "cell_type": "markdown",
   "id": "c6dcbd52",
   "metadata": {},
   "source": [
    "Motifs probabilísticos baseados num alinhamento múltiplo"
   ]
  },
  {
   "cell_type": "code",
   "execution_count": 3,
   "id": "8161dfb4",
   "metadata": {},
   "outputs": [],
   "source": [
    "import re\n",
    "from math import log\n",
    "from threading import local\n",
    "from typing import List, Type\n",
    "from unittest import result"
   ]
  },
  {
   "cell_type": "code",
   "execution_count": 9,
   "id": "8aacf289",
   "metadata": {},
   "outputs": [],
   "source": [
    "lista_seqs = ['ATTG','ATCG','ATTC','ACTC']\n",
    "\n",
    "seqs2 = \"\"\"HEM13 CCCATTGTTCTC\n",
    "HEM13 TTTCTGGTTCTC\n",
    "HEM13 TCAATTGTTTAG\n",
    "ANB1 CTCATTGTTGTC\n",
    "ANB1 TCCATTGTTCTC\n",
    "ANB1 CCTATTGTTCTC\n",
    "ANB1 TCCATTGTTCGT\n",
    "ROX1 CCAATTGTTTTG\"\"\"\n",
    "\n",
    "seqs2 = [x.split()[1] for x in seqs2.splitlines()]"
   ]
  },
  {
   "cell_type": "code",
   "execution_count": 10,
   "id": "7edc2c7d",
   "metadata": {},
   "outputs": [],
   "source": [
    "def pwm(lista_seqs: List[str], pseudo: int = 0, printing: bool = True):\n",
    "    ''' \n",
    "    Funcao que recebe uma lista de sequencias de tamanho igual o valor da pseucocontagem e o tipo de printing desejado. Devolve o perfil PWM das mesmas. \\n\n",
    "        \n",
    "    Inputs:\n",
    "        :lista_seqs: Lista de sequências\n",
    "        :type lista_seqs: List[str]\n",
    "        :pseudo: Valor da pseudocontagem do PWM (por omissão 0)\n",
    "        :type pseudo: int\n",
    "        :printing: Modo de retorno da matriz\n",
    "        :type printing: bool\n",
    "        \n",
    "    Returns:\n",
    "        :return PWM: PWM das sequências\n",
    "        :rtype PWM: array\n",
    "    '''\n",
    "    if type(lista_seqs) not in [list]:\n",
    "        raise TypeError ('A sua lista de sequências não é uma lista')\n",
    "\n",
    "    for i in lista_seqs:\n",
    "        if type(i) not in [str]:\n",
    "            raise TypeError ('A sua lista de sequências possui valores que não são strings.')\n",
    "    \n",
    "    if len(lista_seqs) == 1:\n",
    "        raise TypeError ('A sua lista de sequências deve ter mais do que uma sequência.')\n",
    "\n",
    "    \n",
    "    num_seqs = len(lista_seqs)\n",
    "    result = []\n",
    "    for z in zip(*lista_seqs):\n",
    "        result.append({k: (z.count(k) + pseudo) / (num_seqs + (pseudo * 4)) for k in 'ACGT'})\n",
    "    # o valor de pseudo é multiplicado pelo valor das bases, no caso de ser proteina pelos aminoacidos\n",
    "    \n",
    "    #print\n",
    "    if printing == True:\n",
    "        bases = sorted(result[0].keys())    # Do primeiro dicionario da lista de listas, tirar as keys (a,c,g,t)\n",
    "        tab = [[f\"{p[b]:-5.2f}\" for b in bases] for p in result]    # para cada linha em perfil adicionar um (a,c,g,t)\n",
    "        for p in zip(*([bases] + tab)):\n",
    "            print (*p)\n",
    "    else:\n",
    "        return result"
   ]
  },
  {
   "cell_type": "code",
   "execution_count": 27,
   "id": "29836d6c",
   "metadata": {},
   "outputs": [
    {
     "name": "stdout",
     "output_type": "stream",
     "text": [
      "A  1.00  0.00  0.00  0.00\n",
      "C  0.00  0.25  0.25  0.50\n",
      "G  0.00  0.00  0.00  0.50\n",
      "T  0.00  0.75  0.75  0.00\n"
     ]
    }
   ],
   "source": [
    "p = pwm(lista_seqs, pseudo = 0, printing = True)"
   ]
  },
  {
   "cell_type": "code",
   "execution_count": 13,
   "id": "905f84c9",
   "metadata": {},
   "outputs": [],
   "source": [
    "def pssm(lista_seqs: List[str], pseudo: int = 1, printing: bool = False):\n",
    "    ''' \n",
    "    Funcao que recebe uma lista de sequencias de tamanho igual e a pseudocontagem (pseudo). Devolve o perfil PSSM das mesmas. \\n\n",
    "    \n",
    "    Inputs:\n",
    "        :lista_seqs: Lista de sequências\n",
    "        :type lista_seqs: List[str]\n",
    "        :pseudo: Valor da pseudocontagem do PSSM (por omissão 0)\n",
    "        :type pseudo: int\n",
    "        \n",
    "    Returns:\n",
    "        :return PSSM: PSSM das sequências\n",
    "        :rtype PSSM: array\n",
    "    '''\n",
    "\n",
    "    if type(lista_seqs) not in [list]:\n",
    "        raise TypeError ('A sua lista de sequências não é uma lista')\n",
    "\n",
    "    for i in lista_seqs:\n",
    "        if type(i) not in [str]:\n",
    "            raise TypeError ('A sua lista de sequências possui valores que não são strings.')\n",
    "    \n",
    "    if len(lista_seqs) == 1:\n",
    "        raise TypeError ('A sua lista de sequências deve ter mais do que uma sequência.')\n",
    "\n",
    "    if pseudo == 0:\n",
    "        raise TypeError ('A pseudocontagem do algoritmo PSSM não pode ser 0')\n",
    "\n",
    "    num_seqs = len(lista_seqs)\n",
    "    result = []\n",
    "    for z in zip(*lista_seqs):\n",
    "        result.append({k: log((z.count(k) + pseudo) * 4 / (num_seqs + (pseudo * 4)), 2) for k in \"ACGT\"})\n",
    "    \n",
    "    # print\n",
    "    if printing == True:\n",
    "        bases = sorted(result[0].keys())    # Do primeiro dicionario da lista de listas, tirar as keys (a,c,g,t)\n",
    "        tab = [[f\"{p[b]:-5.2f}\" for b in bases] for p in result]    # para cada linha em perfil adicionar um (a,c,g,t)\n",
    "        for p in zip(*([bases] + tab)):\n",
    "            print(*p)\n",
    "    else:\n",
    "        return result\n",
    "\n",
    "def seq_mais_prob(lista_seqs: List[str], seq: str, pseudo: int = 0):\n",
    "\n",
    "    '''\n",
    "    Funcao que recebe uma lista de sequencias com o mesmo tamanho, a pseudocontagem (pseudo) e uma sequencia maior. Esta funcao vai realizar\n",
    "    um perfil pwm e descobrir de entre as sequências na lista de sequencias a mais provavel de ocorrer. \\n\n",
    "    Inputs:\n",
    "        :lista_seqs: Lista de sequências\n",
    "        :type lista_seqs: List[str]\n",
    "        :seq: Sequência DNA\n",
    "        :type seq: string\n",
    "        :pseudo: Valor da pseudocontagem para o PWM (por omissão 0)\n",
    "        :type pseudo: int\n",
    "        \n",
    "    Returns:\n",
    "        :return seq_mais_provavel: Sequência mais provavel com base nos inputs\n",
    "        :rtype PWM: str \n",
    "    '''\n",
    "\n",
    "    if type(lista_seqs) not in [list]:\n",
    "        raise TypeError ('Deve dar input de uma lista de strings')\n",
    "\n",
    "    def pwm(lista_seqs,pseudo=0):\n",
    "        num_seqs = len(lista_seqs)\n",
    "        result = []\n",
    "        for z in zip(*lista_seqs):\n",
    "            result.append({k: (z.count(k) + pseudo) / (num_seqs + (pseudo * 4)) for k in \"ACGT\"})\n",
    "        return result\n",
    "    \n",
    "    def prob_seq(seq,pwm):\n",
    "        assert len(seq)==len(pwm), \"Tamanhos diferentes entre 'seq' e 'pwm'!\"\n",
    "        result = 1\n",
    "        for s in range(len(seq)):\n",
    "            result *= pwm[s][seq[s]]\n",
    "        return result\n",
    "    \n",
    "    def mais_prob(seq,P):\n",
    "        chave=[]\n",
    "        valor=[]\n",
    "        for s in re.findall('(?=(....))', seq):\n",
    "            chave.append(s)\n",
    "            valor.append(prob_seq(s, pwm = P))\n",
    "        dic= dict(zip(chave, valor))\n",
    "        return f'{max(dic, key=dic.get)}', f'{dic[max(dic, key=dic.get)]}'\n",
    "        # print(f'Sequencia mais provavel:{max(dic, key=dic.get)}')\n",
    "        # print(f'Probabilidade da sequencia mais provavel: {dic[max(dic, key=dic.get)]}')\n",
    "        \n",
    "    \n",
    "    P=pwm(lista_seqs,pseudo)\n",
    "    return mais_prob(seq,P)"
   ]
  },
  {
   "cell_type": "code",
   "execution_count": 14,
   "id": "074535a7",
   "metadata": {},
   "outputs": [
    {
     "data": {
      "text/plain": [
       "[{'A': 1.3219280948873624, 'C': -1.0, 'G': -1.0, 'T': -1.0},\n",
       " {'A': -1.0, 'C': 0.0, 'G': -1.0, 'T': 1.0},\n",
       " {'A': -1.0, 'C': 0.0, 'G': -1.0, 'T': 1.0},\n",
       " {'A': -1.0, 'C': 0.5849625007211562, 'G': 0.5849625007211562, 'T': -1.0}]"
      ]
     },
     "execution_count": 14,
     "metadata": {},
     "output_type": "execute_result"
    }
   ],
   "source": [
    "pssm(lista_seqs, pseudo = 1, printing = False)"
   ]
  },
  {
   "cell_type": "code",
   "execution_count": 60,
   "id": "ad081e30",
   "metadata": {},
   "outputs": [],
   "source": [
    "def seq_mais_prob(lista_seqs: List[str], seq: str, pseudo: int = 0):\n",
    "\n",
    "    '''\n",
    "    Funcao que recebe uma lista de sequencias com o mesmo tamanho, a pseudocontagem (pseudo) e uma sequencia maior. Esta funcao vai realizar\n",
    "    um perfil pwm e descobrir de entre as sequências na lista de sequencias a mais provavel de ocorrer. \\n\n",
    "    Inputs:\n",
    "        :lista_seqs: Lista de sequências\n",
    "        :type lista_seqs: List[str]\n",
    "        :seq: Sequência DNA\n",
    "        :type seq: string\n",
    "        :pseudo: Valor da pseudocontagem para o PWM (por omissão 0)\n",
    "        :type pseudo: int\n",
    "        \n",
    "    Returns:\n",
    "        :return seq_mais_provavel: Sequência mais provavel com base nos inputs\n",
    "        :rtype PWM: str \n",
    "    '''\n",
    "\n",
    "    if type(lista_seqs) not in [list]:\n",
    "        raise TypeError ('Deve dar input de uma lista de strings')\n",
    "\n",
    "    def pwm(lista_seqs,pseudo=0):\n",
    "        num_seqs = len(lista_seqs)\n",
    "        result = []\n",
    "        for z in zip(*lista_seqs):\n",
    "            result.append({k: (z.count(k) + pseudo) / (num_seqs + (pseudo * 4)) for k in \"ACGT\"})\n",
    "        return result\n",
    "    \n",
    "    def prob_seq(seq,pwm):\n",
    "        assert len(seq)==len(pwm), \"Tamanhos diferentes entre 'seq' e 'pwm'!\"\n",
    "        result = 1\n",
    "        for s in range(len(seq)):\n",
    "            result *= pwm[s][seq[s]]\n",
    "        return result\n",
    "    \n",
    "    def mais_prob(seq,P):\n",
    "        chave=[]\n",
    "        valor=[]\n",
    "        for s in re.findall('(?=(....))', seq):\n",
    "            chave.append(s)\n",
    "            valor.append(prob_seq(s, pwm = P))\n",
    "        dic= dict(zip(chave, valor))\n",
    "        return f'{max(dic, key=dic.get)}', f'{dic[max(dic, key=dic.get)]}'\n",
    "        \n",
    "    P=pwm(lista_seqs,pseudo)\n",
    "    return mais_prob(seq,P)"
   ]
  },
  {
   "cell_type": "code",
   "execution_count": 61,
   "id": "f9ed47d3",
   "metadata": {},
   "outputs": [
    {
     "data": {
      "text/plain": [
       "('ATTG', '0.28125')"
      ]
     },
     "execution_count": 61,
     "metadata": {},
     "output_type": "execute_result"
    }
   ],
   "source": [
    "seq_mais_prob(lista_seqs,seq = \"TATTTACTCTTTTAGATGTTCTGGACTCAATTGCTCACTCTTCTCTACTCGTTTAGATGATAGTAGCGCTATTGACTCCGATCTTACTCTTTATGATCGATCGATGCACTCATCGTACGTAGATGCTTTT\", pseudo = 0)"
   ]
  }
 ],
 "metadata": {
  "kernelspec": {
   "display_name": "Python 3 (ipykernel)",
   "language": "python",
   "name": "python3"
  },
  "language_info": {
   "codemirror_mode": {
    "name": "ipython",
    "version": 3
   },
   "file_extension": ".py",
   "mimetype": "text/x-python",
   "name": "python",
   "nbconvert_exporter": "python",
   "pygments_lexer": "ipython3",
   "version": "3.9.12"
  }
 },
 "nbformat": 4,
 "nbformat_minor": 5
}
