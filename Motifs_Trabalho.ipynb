{
 "cells": [
  {
   "cell_type": "markdown",
   "id": "0d36e4fa",
   "metadata": {},
   "source": [
    "__AASB_Motifs Probabilísticos__"
   ]
  },
  {
   "cell_type": "markdown",
   "id": "c6dcbd52",
   "metadata": {},
   "source": [
    "Motifs probabilísticos baseados num alinhamento múltiplo"
   ]
  },
  {
   "cell_type": "code",
   "execution_count": 2,
   "id": "8161dfb4",
   "metadata": {},
   "outputs": [],
   "source": [
    "import re\n",
    "from math import log\n",
    "from threading import local\n",
    "from typing import List, Type\n",
    "from unittest import result"
   ]
  },
  {
   "cell_type": "code",
   "execution_count": 10,
   "id": "8aacf289",
   "metadata": {},
   "outputs": [],
   "source": [
    "#Lista de sequências a testar\n",
    "lista_seqs = ['ATTG','ATCG','ATTC','ACTC']\n",
    "\n",
    "seqs2 = \"\"\"HEM13 CCCATTGTTCTC\n",
    "HEM13 TTTCTGGTTCTC\n",
    "HEM13 TCAATTGTTTAG\n",
    "ANB1 CTCATTGTTGTC\n",
    "ANB1 TCCATTGTTCTC\n",
    "ANB1 CCTATTGTTCTC\n",
    "ANB1 TCCATTGTTCGT\n",
    "ROX1 CCAATTGTTTTG\"\"\"\n",
    "\n",
    "seqs2 = [x.split()[1] for x in seqs2.splitlines()]"
   ]
  },
  {
   "cell_type": "code",
   "execution_count": 33,
   "id": "7edc2c7d",
   "metadata": {},
   "outputs": [],
   "source": [
    "def pwm(lista_seqs: List[str], pseudo: int = 0, printing: bool = True):\n",
    "    \"\"\"    \n",
    "    Input: lista_seqs = lista de sequências\n",
    "    pseudo = valor da pseudocontagem do PWM (por default é 0)\n",
    "    printing = modo de retorno da matriz\n",
    "        \n",
    "    Output: perfil PWM das sequências\n",
    "    \"\"\"\n",
    "    tam_seqs = len(lista_seqs)\n",
    "    res = []\n",
    "    for z in zip(*lista_seqs):\n",
    "        res.append({k: (z.count(k) + pseudo) / (tam_seqs + (pseudo * 4)) for k in 'ACGT'})\n",
    "    \n",
    "    if printing == True:\n",
    "        bases = sorted(res[0].keys())    \n",
    "        mat = [[f\"{p[b]:-6.3f}\" for b in bases] for p in res]    \n",
    "        for p in zip(*([bases] + mat)):\n",
    "            print (*p)\n",
    "    else:\n",
    "        return res"
   ]
  },
  {
   "cell_type": "code",
   "execution_count": 77,
   "id": "29836d6c",
   "metadata": {},
   "outputs": [
    {
     "name": "stdout",
     "output_type": "stream",
     "text": [
      "A  0.750  0.083  0.083  0.083\n",
      "C  0.083  0.250  0.250  0.417\n",
      "G  0.083  0.083  0.083  0.417\n",
      "T  0.083  0.583  0.583  0.083\n"
     ]
    }
   ],
   "source": [
    "p = pwm(lista_seqs, pseudo = 0.5, printing = True)"
   ]
  },
  {
   "cell_type": "code",
   "execution_count": 76,
   "id": "905f84c9",
   "metadata": {},
   "outputs": [],
   "source": [
    "def pssm(lista_seqs: List[str], pseudo: int = 1, printing: bool = True):\n",
    "    \"\"\"\n",
    "    Inputs:\n",
    "    Input: lista_seqs = lista de sequências\n",
    "    pseudo = valor da pseudocontagem do PSSM (por default é 1)\n",
    "    printing = modo de retorno da matriz\n",
    "          \n",
    "    Output: perfil PSSM das sequências\n",
    "    \"\"\"\n",
    "    num_seqs = len(lista_seqs)\n",
    "    res = []\n",
    "    for z in zip(*lista_seqs):\n",
    "        res.append({k: log((z.count(k) + pseudo) * 4 / (num_seqs + (pseudo * 4)), 2) for k in \"ACGT\"})\n",
    "    \n",
    "    if printing == True:\n",
    "        bases = sorted(res[0].keys())    \n",
    "        mat = [[f\"{p[b]:-6.3f}\" for b in bases] for p in res]   \n",
    "        for p in zip(*([bases] + mat)):\n",
    "            print(*p)\n",
    "    else:\n",
    "        return res"
   ]
  },
  {
   "cell_type": "code",
   "execution_count": 75,
   "id": "074535a7",
   "metadata": {},
   "outputs": [
    {
     "name": "stdout",
     "output_type": "stream",
     "text": [
      "A  1.322 -1.000 -1.000 -1.000\n",
      "C -1.000  0.000  0.000  0.585\n",
      "G -1.000 -1.000 -1.000  0.585\n",
      "T -1.000  1.000  1.000 -1.000\n"
     ]
    }
   ],
   "source": [
    "pssm(lista_seqs, pseudo = 1, printing = True)"
   ]
  },
  {
   "cell_type": "code",
   "execution_count": 79,
   "id": "0ad0402d",
   "metadata": {},
   "outputs": [],
   "source": [
    "def seq_mais_prov(lista_seqs: List[str], seq: str, pseudo: int = 0):\n",
    "    \"\"\"\n",
    "    Inputs:\n",
    "    lista_seqs = lista de sequências\n",
    "    seq = sequência\n",
    "    pseudo = valor da pseudocontagem para o PWM (por default é 0)    \n",
    "        \n",
    "    Output:\n",
    "    seq_mais_provavel = Sequência mais provável de ocorrer\n",
    "    \"\"\"\n",
    "    def pwm(lista_seqs,pseudo=0):\n",
    "        tam_seqs = len(lista_seqs)\n",
    "        res = []\n",
    "        for z in zip(*lista_seqs):\n",
    "            res.append({k: (z.count(k) + pseudo) / (tam_seqs + (pseudo * 4)) for k in \"ACGT\"})\n",
    "        return res\n",
    "    \n",
    "    def prov_seq(seq,pwm):\n",
    "        assert len(seq)==len(pwm)\n",
    "        res = 1\n",
    "        for s in range(len(seq)):\n",
    "            res *= pwm[s][seq[s]]\n",
    "        return res\n",
    "    \n",
    "    def mais_prov(seq,P):\n",
    "        chave=[]\n",
    "        value=[]\n",
    "        for s in re.findall('(?=(....))', seq):\n",
    "            chave.append(s)\n",
    "            value.append(prov_seq(s, pwm = P))\n",
    "        dic= dict(zip(chave, value))\n",
    "        return f'{max(dic, key=dic.get)}', f'{dic[max(dic, key=dic.get)]}'\n",
    "        \n",
    "    P=pwm(lista_seqs,pseudo)\n",
    "    return mais_prov(seq,P)"
   ]
  },
  {
   "cell_type": "code",
   "execution_count": 80,
   "id": "f9ed47d3",
   "metadata": {},
   "outputs": [
    {
     "data": {
      "text/plain": [
       "('ATTG', '0.28125')"
      ]
     },
     "execution_count": 80,
     "metadata": {},
     "output_type": "execute_result"
    }
   ],
   "source": [
    "seq_mais_prov(lista_seqs,seq = \"TATTTACTCTTTTAGATGTTCTGGACTCAATTGCTCACTCTTCTCTACTCGTTTAGATGATAGTAGCGCTATTGACTCCGATCTTACTCTTTATGATCGATCGATGCACTCATCGTACGTAGATGCTTTT\", pseudo = 0)"
   ]
  }
 ],
 "metadata": {
  "kernelspec": {
   "display_name": "Python 3 (ipykernel)",
   "language": "python",
   "name": "python3"
  },
  "language_info": {
   "codemirror_mode": {
    "name": "ipython",
    "version": 3
   },
   "file_extension": ".py",
   "mimetype": "text/x-python",
   "name": "python",
   "nbconvert_exporter": "python",
   "pygments_lexer": "ipython3",
   "version": "3.9.12"
  }
 },
 "nbformat": 4,
 "nbformat_minor": 5
}
